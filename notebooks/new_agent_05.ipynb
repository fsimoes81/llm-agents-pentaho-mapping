{
 "cells": [
  {
   "cell_type": "code",
   "execution_count": 16,
   "metadata": {},
   "outputs": [
    {
     "name": "stderr",
     "output_type": "stream",
     "text": [
      "/home/fabio/repos/llm-agents-pentaho-mapping/.venv/lib/python3.10/site-packages/pydantic/_internal/_config.py:341: UserWarning: Valid config keys have changed in V2:\n",
      "* 'allow_population_by_field_name' has been renamed to 'populate_by_name'\n",
      "* 'smart_union' has been removed\n",
      "  warnings.warn(message, UserWarning)\n"
     ]
    }
   ],
   "source": [
    "import re\n",
    "import os\n",
    "import json\n",
    "import csv\n",
    "import duckdb as db\n",
    "# from pydantic import BaseModel\n",
    "from typing import Any, Dict, List, Tuple, TypedDict, Annotated\n",
    "from textwrap import dedent\n",
    "# from crewai_tools import tool, FileWriterTool\n",
    "from crewai import Agent, Crew, Process, Task\n",
    "# from langchain_ollama.llms import OllamaLLM\n",
    "from langchain_groq import ChatGroq\n",
    "from langchain_google_genai import ChatGoogleGenerativeAI"
   ]
  },
  {
   "cell_type": "markdown",
   "metadata": {},
   "source": [
    "# CrewAI"
   ]
  },
  {
   "cell_type": "code",
   "execution_count": 6,
   "metadata": {},
   "outputs": [],
   "source": [
    "# model = ChatGroq(\n",
    "#     model=\"llama3-8b-8192\",\n",
    "#     temperature = 0,\n",
    "# )"
   ]
  },
  {
   "cell_type": "code",
   "execution_count": 7,
   "metadata": {},
   "outputs": [],
   "source": [
    "model = ChatGroq(\n",
    "    model=\"llama-3.1-70b-versatile\",\n",
    "    temperature=0\n",
    ")"
   ]
  },
  {
   "cell_type": "code",
   "execution_count": 8,
   "metadata": {},
   "outputs": [],
   "source": [
    "# model = ChatGoogleGenerativeAI(\n",
    "#     model='gemini-1.5-pro-exp-0801',\n",
    "#     temperature=0\n",
    "# )"
   ]
  },
  {
   "cell_type": "code",
   "execution_count": 63,
   "metadata": {},
   "outputs": [],
   "source": [
    "from os import listdir\n",
    "from os.path import isfile, join"
   ]
  },
  {
   "cell_type": "code",
   "execution_count": 44,
   "metadata": {},
   "outputs": [],
   "source": [
    "def query_list(file_path: str) -> List:\n",
    "    with open(file_path) as f:\n",
    "        s = f.read()\n",
    "    \n",
    "    return s"
   ]
  },
  {
   "cell_type": "code",
   "execution_count": 80,
   "metadata": {},
   "outputs": [],
   "source": [
    "def load_queries(folder_path: str):\n",
    "    file_list = [f for f in listdir(folder_path) if isfile(join(folder_path, f))]\n",
    "    file_list.sort()\n",
    "    queries = []  \n",
    "\n",
    "    for sql_file in file_list:\n",
    "        q = query_list(join(folder_path,sql_file))\n",
    "        queries.append({\n",
    "            'query_name': 'teste',\n",
    "            'sql_code': q \n",
    "        })          \n",
    "\n",
    "    return queries"
   ]
  },
  {
   "cell_type": "code",
   "execution_count": 81,
   "metadata": {},
   "outputs": [],
   "source": [
    "path = 'sql_files/bn_beneficiario/'"
   ]
  },
  {
   "cell_type": "code",
   "execution_count": 82,
   "metadata": {},
   "outputs": [],
   "source": [
    "teste = load_queries(path)"
   ]
  },
  {
   "cell_type": "code",
   "execution_count": 83,
   "metadata": {},
   "outputs": [
    {
     "data": {
      "text/plain": [
       "[{'query_name': 'teste',\n",
       "  'sql_code': \"SELECT \\n       BEN.HANDLE                                                                         AS ID_BENEFICIARIO\\n      ,FAM.HANDLE                                                                         AS ID_FAMILIA\\n      ,CON.HANDLE                                                                         AS ID_CONTRATANTE\\n      ,NVL(LOT.HANDLE,0)                                                                  AS ID_CONTRATANTE_LOT\\n      ,PLA.HANDLE                                                                         AS ID_PLANO\\n      ,(SELECT MAX(BEN_TIT.HANDLE) \\n        FROM   SAM_BENEFICIARIO BEN_TIT \\n        WHERE  BEN_TIT.FAMILIA   = BEN.FAMILIA \\n        AND    BEN_TIT.EHTITULAR = 'S')                                                   AS ID_BENEFICIARIO_RESP\\n      ,CASE\\n         WHEN CON.LOCALFATURAMENTO = 'C' THEN CPES.HANDLE --CPES\\n         WHEN CON.LOCALFATURAMENTO = 'L' THEN LPES.HANDLE --LPES\\n         WHEN CON.LOCALFATURAMENTO = 'F' THEN\\n           CASE\\n             WHEN FAM.TITULARRESPONSAVEL IS NOT NULL THEN FBEN.HANDLE --FBEN\\n             WHEN FAM.PESSOARESPONSAVEL  IS NOT NULL THEN SFNP.HANDLE --SFNP\\n           END\\n       END                                                                                AS ID_RESP_FINANCEIRO\\n      ,CASE\\n        WHEN BEN.DATACANCELAMENTO < SYSDATE THEN BEN.MOTIVOCANCELAMENTO\\n        WHEN MCAN.CODIGO = 101 AND (BEN.TABORIGEM = 3 OR (BEN.TABORIGEM = 2 AND CON.ESPELHO = 'S')) THEN NULL\\n        ELSE BEN.MOTIVOCANCELAMENTO\\n       END                                                                                 AS ID_MOTIVO_CANC\\n       --Dados Beneficiario\\n      ,SUBSTR(BEN.BENEFICIARIO,1,4)                                                        AS CODIGO_UNI_PAG\\n      ,BEN.CODIGODEAFINIDADE                                                               AS CODIGO_AFINIDADE\\n      ,BEN.BENEFICIARIO                                                                    AS CODIGO_BENEFICIARIO\\n      ,BEN.CODIGODEORIGEM                                                                  AS CODIGO_ORIGEM\\n      ,BEN.CODIGOANS                                                                       AS COD_BENEFICIARIO_ANS -- Código que deve ser utilizado - RN da ANS nº 250\\n      ,BEN.DATAADESAO                                                                      AS DATA_ADESAO\\n      ,BEN.DATAPRIMEIRAADESAO                                                              AS DATA_PRIM_ADESAO_BENEF\\n      ,BEN.ATENDIMENTOATE                                                                  AS DATA_ATENDIMENTO_ATE\\n      ,BEN.DATAULTIMAATUCADASTRAL                                                          AS DATA_ULTIMA_ATU_CADASTRAL\\n      ,BEN.DATAADAPTACAO                                                                   AS DATA_ADAPTACAO \\n      ,BEN.IDADEADAPTACAO                                                                  AS IDADE_ADAPTACAO\\n      ,BEN.DIASCOMPRACARENCIA                                                              AS DIAS_COMPRA_CARENCIA\\n      ,BEN.EMAIL                                                                           AS EMAIL\\n      ,BEN.SEQUENCIA                                                                       AS SEQUENCIA\\n      ,BEN.CCO                                                                             AS CCO\\n      ,BEN.CCODV                                                                           AS CCO_DV\\n      ,BEN.K_EMAIL                                                                         AS K_EMAIL_ZENITE\\n      ,BEN.K_TELEFONE1                                                                     AS K_TELEFONE1_ZENITE\\n      ,BEN.K_TELEFONE2                                                                     AS K_TELEFONE2_ZENITE\\n      ,BEN.K_EMAILIRIS                                                                     AS K_EMAIL_IRIS\\n      ,BEN.K_EMAILIW                                                                       AS K_EMAIL_IW\\n      ,BEN.K_TELEFONE1IW                                                                   AS K_TELEFONE1_IW\\n      ,BEN.K_TELEFONE2IW                                                                   AS K_TELEFONE2_IW\\n      ,BEN.K_TELEFONE3IW                                                                   AS K_TELEFONE3_IW\\n      ,BEN.K_TELEFONE4IW                                                                   AS K_TELEFONE4_IW\\n      ,BEN.K_EMAILSAC                                                                      AS K_EMAIL_SAC\\n      ,BEN.K_TELEFONERESSAC                                                                AS K_TELEFONE_RES_SAC\\n      ,BEN.K_TELEFONECONTATOSAC                                                            AS K_TELEFONE_CONTATO_SAC\\n      ,BEN.K_CELULARSAC                                                                    AS K_TELEFONE_CELULAR_SAC\\n      ,NVL(TRIM(BEN.Z_NOME),TRIM(BEN.NOME))                                                AS BENEFICIARIO     \\n      ,DECODE(BEN.NAOTEMCARENCIA, 'S','Sim','N','Não')                                     AS NAO_TEM_CARENCIA\\n      ,DECODE(BEN.SOFREUADAPTACAO, 1,'Não',2,'Sim')                                        AS SOFREU_ADAPTACAO\\n      ,DECODE(BEN.TABORIGEM, 1,'Próprio',2,'Assumido',3,'Assumido-Eventual')               AS ORIGEM\\n      ,DECODE(BEN.BLOQUEIARECADBIOAUTORIZADORWEB,'S','Sim','N','Não')                      AS BLOQUEAR_RECAD_BIO_AUT_WEB\\n      ,DECODE(FAM.COBRANCANOMESSEGUINTE,'S','Sim','N','Não')                               AS COBRANCA_MES_SEGUINTE\\n      ,CASE \\n          WHEN BEN.DATACANCELAMENTO > REATIVACAO.DATA_REATIVACAO THEN NULL\\n          ELSE REATIVACAO.DATA_REATIVACAO\\n       END                                                                                 AS DATA_REATIVACAO\\n      ,CASE\\n          WHEN BEN.DATACANCELAMENTO < SYSDATE THEN BEN.DATACANCELAMENTO\\n          WHEN MCAN.CODIGO = 101 AND \\n              (BEN.TABORIGEM = 3 OR \\n              (BEN.TABORIGEM = 2 \\n              AND CON.ESPELHO = 'S')) THEN NULL\\n          ELSE BEN.DATACANCELAMENTO\\n       END                                                                                 AS DATA_CANCELAMENTO\\n      ,CASE\\n        WHEN CON.INTERCAMBIO = 1 THEN 'Sim'\\n        WHEN CON.INTERCAMBIO = 2 THEN 'Não'\\n       END                                                                                 AS INTERCAMBIO\\n\\n       --Matricula\\n      ,MAT.CPF                                                                             AS CPF_BENEFICIARIO\\n      ,MAT.DATAINGRESSO                                                                    AS DATA_INGRESSO\\n      ,MAT.CARTAONACIONALSAUDE                                                             AS CARTAO_NACIONAL_SAUDE\\n      ,MAT.DNV                                                                             AS DNV\\n      ,MAT.DATAEXPEDICAORG                                                                 AS DATA_EXPED_RG\\n      ,MAT.DATANASCIMENTO                                                                  AS DATA_NASCIMENTO\\n      ,MAT.DATAINGRESSO                                                                    AS DATA_PRIMEIRA_ADESAO\\n      ,MAT.RG                                                                              AS RG_BENEFICIARIO\\n      ,MAT.SEXO                                                                            AS SEXO\\n      ,MAT.MATRICULA                                                                       AS MATRICULA_UNICA\\n      ,MAT.ORGAOEMISSOR                                                                    AS ORGAO_EMISSOR_RG\\n      ,MAT.DATAFALECIMENTO                                                                 AS DATA_FALECIMENTO\\n      ,MAT.PISPASEP                                                                        AS PISPASEP\\n      ,MAT.NOMEMAE                                                                         AS NOME_MAE\\n       --Família\\n      ,FAM.FAMILIA                                                                         AS CODIGO_FAMILIA\\n      ,FAM.DATAADESAO                                                                      AS DATA_ADESAO_FAMILIA\\n      ,FAM.DATAVENDA                                                                       AS DATA_VENDA_FAMILIA      \\n      ,FAM.DATAINICIOINATIVIDADE                                                           AS DATA_INICIO_INAT_FAMILIA\\n      ,FAM.DATACANCELAMENTO                                                                AS DATA_CANCELAMENTO_FAMILIA\\n      ,FAM.DATAINCLUSAO                                                                    AS DATA_INCLUSAO_FAMILIA\\n      ,FAM.DATAULTIMOREAJUSTE                                                              AS DATA_ULTIMO_REAJUSTE_FAMILIA\\n      ,FAM.NUMEROPROPOSTA                                                                  AS NUM_PROPOSTA_FAMILIA\\n      ,FAM.DIACOBRANCA                                                                     AS DIA_COBRANCA\\n      ,CASE\\n         WHEN FAM.LEIDEMITIDOSAPOSENTADOS = 1 THEN 'Ativo'\\n         WHEN FAM.LEIDEMITIDOSAPOSENTADOS = 2 THEN 'Demitido'\\n         WHEN FAM.LEIDEMITIDOSAPOSENTADOS = 3 THEN 'Aposentado'\\n       END                                                                                 AS SITUACAO_FAMILIA\\n       --Contrato\\n      ,CON.CONTRATO                                                                        AS CONTRATO\\n      ,CON.CONTRATANTE                                                                     AS CONTRATANTE\\n      ,CON.DATAADESAO                                                                      AS DATA_ADESAO_CONTRATO\\n      ,CON.DATACANCELAMENTO                                                                AS DATA_CANC_CONTRATO\\n      ,LOT.DESCRICAO                                                                       AS LOTACAO\\n      ,CONTTPDEP.IDADEMAXIMA                                                               AS IDADE_MAXIMA\\n      ,CBO.ESTRUTURA||' - '||CBO.DESCRICAO                                                 AS CBO\\n      ,CONV.DESCRICAO                                                                      AS CONVENIO\\n      ,PLA.CODIGO                                                                          AS CODIGO_PLANO\\n      ,TPDEP.DESCRICAO                                                                     AS TIPO_DEPENDENTE\\n      ,TPDEP.CODIGOANS                                                                     AS COD_GRAU_DEPEND_ANS\\n      ,ESTCIV.DESCRICAO                                                                    AS ESTADO_CIVIL\\n      ,PAI.GENTILICO                                                                       AS NACIONALIDADE\\n      ,PAIRG.NOME                                                                          AS PAIS_RG\\n      ,PAISRG.CODIGOANS                                                                    AS COD_PAIS_RG_ANS      \\n      ,ESTR.SIGLA                                                                          AS UF\\n      ,ESTRG.SIGLA                                                                         AS UF_RG\\n      ,NVL(ESTUNIO.SIGLA,'PR')                                                             AS UF_UNI_ORIGEM\\n      ,NVL(UNIO.CODIGO,'0032')                                                             AS UNI_ORIGEM\\n      ,NVL(POL.DESCRICAO,'Estadual')                                                       AS UNI_ORIGEM_DESC_POLITICA\\n      ,DECODE(BAS.UNIMEDEMCASA,'N','Não','S','Sim',BAS.UNIMEDEMCASA)                      AS UNIMED_EM_CASA\\n      ,DECODE(BAS.BEMESTARESAUDE,'N','Não','S','Sim',BAS.BEMESTARESAUDE)                  AS BEM_ESTAR_E_SAUDE\\n      ,(SELECT USU.NOME FROM Z_GRUPOUSUARIOS USU WHERE USU.HANDLE = FAM.USUARIOINCLUSAO)  AS USUARIO_INCLUSAO_FAMILIA\\n      ,NVL(UNIDES.UNIMED_DESTINO,'0032')                                                  AS UNI_DESTINO\\n      ,NVL(NVL(UNIO_PES.NOME,UNIO.RAZAOSOCIAL),'UNIMED CURITIBA SOC COOPERATIVA MEDICOS') AS UNI_ORIGEM_RAZAOSOCIAL\\n      ,NVL(UNIDES.UNIMED_DESTINO_RAZAOSOCIAL,'UNIMED CURITIBA SOC COOPERATIVA MEDICOS')   AS UNI_DESTINO_RAZAOSOCIAL\\n      ,MUNR.NOME                                                                          AS CIDADE\\n      ,MUNR.CODIGOIBGE                                                                    AS CODIGO_IBGE\\n      ,ENDR.BAIRRO                                                                        AS BAIRRO\\n      ,ENDR.CEP                                                                           AS CEP\\n      ,ENDR.COMPLEMENTO                                                                   AS COMPLEMENTO\\n      ,ENDR.DDD1                                                                          AS DDD\\n      ,ENDR.LOGRADOURO                                                                    AS ENDERECO\\n      ,ENDR.NUMERO                                                                        AS NUMERO\\n      ,'('||ENDR.DDD2||') '||ENDR.PREFIXO2||'-'||ENDR.NUMERO2                             AS TELEFONE2\\n      ,'('||ENDR.DDDCELULAR||') '||ENDR.PREFIXOCELULAR||'-'||ENDR.NUMEROCELULAR           AS CELULAR\\n      ,MUNC.NOME                                                                          AS CIDADE_CORRESP\\n      ,ENDC.CEP                                                                           AS CEP_CORRESP\\n      ,ENDC.BAIRRO                                                                        AS BAIRRO_CORRESP\\n      ,ENDC.COMPLEMENTO                                                                   AS COMPLEMENTO_CORRESP\\n      ,ENDC.LOGRADOURO                                                                    AS ENDERECO_CORRESP\\n      ,ENDC.NUMERO                                                                        AS NUMERO_CORRESP\\n      ,ESTC.SIGLA                                                                         AS UF_CORRESP\\n      ,'('||ENDC.DDD1||') '||ENDC.PREFIXO1||'-'||ENDC.NUMERO1                             AS TELEFONE1_CORRESP\\n      ,'('||ENDC.DDD2||') '||ENDC.PREFIXO2||'-'||ENDC.NUMERO2                             AS TELEFONE2_CORRESP\\n      ,'('||ENDC.DDDCELULAR||') '||ENDC.PREFIXOCELULAR||'-'||ENDC.NUMEROCELULAR           AS CELULAR_CORRESP\\n       --Cartão Benef\\n      ,CARTIDENTIF.TIPO_CARTAO                                                            AS TIPO_CARTAO\\n      ,CARTIDENTIF.DV                                                                     AS DV_CARTAO_BENEF\\n      ,CARTIDENTIF.VIA_CARTAO                                                             AS VIA_CARTAO\\n      ,CARTIDENTIF.DATA_VALID_CARTEIRA                                                    AS DATA_VALID_CARTEIRA\\n      ,CARTIDENTIF.DATA_GERAC_CARTEIRA                                                    AS DATA_GERAC_CARTEIRA\\n      ,CARTIDENTIF.DATA_EMISS_CARTEIRA                                                    AS DATA_EMISS_CARTEIRA\\n      ,CARTIDENTIF.DATA_INICIAL_VALIDADE                                                  AS DATA_INICIAL_VALIDADE\\n      ,CARTIDENTIF.DATA_FINAL_VALIDADE                                                    AS DATA_FINAL_VALIDADE\\n      ,CARTIDENTIF.SITUACAO_CARTAO                                                        AS SITUACAO_CARTAO\\n      ,CARTIDENTIF.VALOR_FATURADO                                                         AS VALOR_FATURADO\\n      ,CARTIDENTIF.NUMERO_FATURA                                                          AS NUMERO_FATURA\\n      ,CARTIDENTIF.SITUACAO_ATUALIZACAO_DADOS                                             AS SITUACAO_ATUALIZACAO_DADOS\\n      ,CARTIDENTIF.DESCRICAO_ROTINA_CARTAO                                                AS DESCRICAO_ROTINA_CARTAO\\n      ,REPASSE.DATA_INICIO_REPASSE                                                        AS DATA_INICIO_REPASSE\\n      ,REPASSE.DATA_FINAL_REPASSE                                                         AS DATA_FINAL_REPASSE\\n       --\\n      ,CASE  \\n        WHEN ((SELECT MAX(CID.QTDCPT) FROM SAM_BENEFICIARIO_CID CID       WHERE CID.BENEFICIARIO = BEN.HANDLE) > SYSDATE - CON.DATAADESAO) OR\\n             ((SELECT MAX(EVE.QTDCPT) FROM SAM_BENEFICIARIO_EVENTO EVE    WHERE EVE.BENEFICIARIO = BEN.HANDLE) > SYSDATE - CON.DATAADESAO) OR\\n             ((SELECT MAX(PAT.QTDCPT) FROM SAM_BENEFICIARIO_PATOLOGIA PAT WHERE PAT.BENEFICIARIO = BEN.HANDLE) > SYSDATE - CON.DATAADESAO)\\n        THEN           'S'\\n        ELSE           'N'\\n       END                                                                                AS CPT\\n      ,CASE\\n        WHEN CON.LOCALFATURAMENTO = 'C' THEN 'P'\\n        WHEN CON.LOCALFATURAMENTO = 'L' THEN 'P'\\n        WHEN CON.LOCALFATURAMENTO = 'F' THEN\\n          CASE\\n            WHEN FAM.TITULARRESPONSAVEL IS NOT NULL THEN 'B'\\n            WHEN FAM.PESSOARESPONSAVEL IS NOT NULL THEN 'P'\\n          END\\n       END                                                                                AS TIPO_RESPONSAVEL\\n      ,CASE\\n        WHEN CON.CONTRATO = 53478 AND \\n             TPDEP.DESCRICAO = 'Titular' THEN LPAD(BEN.MATRICULAFUNCIONAL,6,0)\\n        ELSE BEN.MATRICULAFUNCIONAL\\n       END                                                                                AS MATRIC_BEN_EMPRESA\\n      ,CASE\\n        WHEN BEN.DATACANCELAMENTO < SYSDATE THEN MCAN.DESCRICAO\\n        WHEN MCAN.CODIGO = 101 AND \\n            (BEN.TABORIGEM = 3 OR (BEN.TABORIGEM = 2 AND CON.ESPELHO = 'S')) THEN NULL\\n        ELSE MCAN.DESCRICAO\\n       END                                                                                AS MOTIVO_CANC\\n      ,CASE\\n        WHEN BEN.MOTIVOINCLUSAO = 5 THEN 'Novo beneficiário'\\n        WHEN BEN.MOTIVOINCLUSAO = 6 THEN 'Transferência voluntária de carteira'\\n        WHEN BEN.MOTIVOINCLUSAO = 7 THEN 'Transferência compulsória de carteira'\\n        ELSE NULL\\n       END                                                                                AS MOTIVO_INCLUSAO\\n      ,CASE\\n        WHEN NVL(UNIO.CODIGO,'0032') = '0032' AND NVL(UNIDES.UNIMED_DESTINO,'0032') = '0032' THEN 'Próprio'\\n        WHEN NVL(UNIDES.UNIMED_DESTINO,'0032') <> '0032' THEN 'Repassado'\\n        WHEN NVL(UNIO.CODIGO,'0032') <> '0032' THEN\\n             CASE\\n               WHEN BEN.TABORIGEM = 2 THEN 'Assumido'\\n               WHEN BEN.TABORIGEM = 3 THEN 'Assumido-Eventual'\\n               ELSE 'Assumido'\\n             END\\n       END                                                                                AS TIPO_BENEFICIARIO\\n      ,CASE\\n        WHEN UNIO.HANDLE IS NULL THEN 'Estadual'\\n        WHEN CAMCOM.DESCRICAO IS NULL THEN 'Sem Informação'\\n        ELSE CAMCOM.DESCRICAO\\n       END                                                                                AS UNI_ORIGEM_CAMARA_COMPENSACAO\\n      ,CASE\\n        WHEN UNIO.HANDLE IS NULL THEN '2-Federativa'\\n        WHEN CAMCOM.TIPOCAMARA IS NULL THEN 'Sem Informação'\\n        ELSE DECODE(CAMCOM.TIPOCAMARA ,1,'1-Intra-Federativa'\\n                                      ,2,'2-Federativa'\\n                                      ,3,'3-Inter-Federativa'\\n                                      ,4,'4-Nacional')\\n       END                                                                                AS UNI_ORIGEM_TIPO_CAMARA_COMP\\n      ,CASE\\n        WHEN UNIDES.UNIMED_DESTINO IS NOT NULL THEN\\n          ( SELECT TIP.DESCRICAO\\n              FROM SIS_TIPOFATURAMENTO  TIP\\n                 , SAM_UNIMED           UNI\\n                 , SAM_REPASSEINTER     REP\\n             WHERE TIP.HANDLE       = REP.TIPOFATURAMENTO\\n               AND UNI.CODIGO       = UNIDES.UNIMED_DESTINO\\n               AND UNI.HANDLE       = REP.UNIMEDDESTINO\\n               AND REP.DATAINICIAL <= TRUNC(SYSDATE)\\n               AND ( REP.DATAFINAL IS NULL\\n                  OR REP.DATAFINAL >= TRUNC(SYSDATE)\\n                   )\\n               AND REP.CONTRATO      = CON.HANDLE\\n               AND ROWNUM            = 1 )\\n        ELSE\\n          NULL\\n       END                                                                                AS TIPO_FATURAMENTO_REP\\n     ,(SELECT LISTAGG(SUBSTR('('||TO_CHAR(F.DATA,'DD/MM/YYYY')||') '||A.DESCRICAO||': '||SUBSTR(F.OBSERVACAO,0,255),0,4000), '; ') WITHIN GROUP (ORDER BY 1)\\n       FROM   SAM_FAMILIA_ANOTADM F\\n       LEFT   JOIN SAM_ANOTACAOADMINISTRATIVA A ON F.ANOTACAO = A.HANDLE\\n       WHERE   F.FAMILIA = BEN.FAMILIA)                                                   AS ANOTACAO_ADM_FAMILIA\\n     ,CASE\\n        WHEN EXISTS (SELECT 1 \\n                     FROM   AWE_BIOMETRIA BIO \\n                     WHERE  BIO.TIPO = 'B'\\n                     AND    BIO.OPERADORA||SUBSTR(BIO.CODIGO,1,LENGTH(BIO.CODIGO)-1) = BEN.BENEFICIARIO) THEN 'Sim'\\n        ELSE 'Não'\\n      END                                                                                 AS POSSUI_BIOMETRIA\\n     ,(SELECT OCA.DESCRICAO\\n       FROM   SAM_CONTRATO_ORIGEMCARENCIA  COC\\n       JOIN   SAM_ORIGEMCARENCIA           OCA ON (OCA.HANDLE = COC.ORIGEMCARENCIA)\\n       WHERE  COC.HANDLE = BEN.ORIGEMCARENCIA )                                           AS ORIGEM_CARENCIA\\n       --Handles\\n      ,NVL(FAM.HANDLE,0)                                                                  AS HANDLE_FAMILIA\\n      ,BEN.CONTRATO                                                                       AS HANDLE_CONTRATO\\n      ,FAM.TITULARRESPONSAVEL                                                             AS HANDLE_TITULARRESPONSAVEL\\n      ,FAM.PESSOARESPONSAVEL                                                              AS HANDLE_PESSOARESPONSAVEL\\n      ,FAM.LOTACAO                                                                        AS HANDLE_LOTACAO\\n      ,CON.LOCALFATURAMENTO                                                               AS LOCAL_FATURAMENTO\\n      ,SYSDATE                                                                            AS DW_INC\\n      ,SYSDATE                                                                            AS DW_ALT\\nFROM   SAM_BENEFICIARIO                     BEN\\nLEFT JOIN SAM_CONTRATO                      CON ON (CON.HANDLE       = BEN.CONTRATO)\\nLEFT JOIN SAM_FAMILIA                       FAM ON (FAM.HANDLE       = BEN.FAMILIA AND FAM.CONTRATO = BEN.CONTRATO)\\nLEFT JOIN SAM_MATRICULA                     MAT ON (MAT.HANDLE       = BEN.MATRICULA)\\nLEFT JOIN SAM_CONTRATO_LOTACAO              LOT ON (LOT.HANDLE       = FAM.LOTACAO)\\nLEFT JOIN PAISES                            PAI ON (PAI.HANDLE       = MAT.NACIONALIDADE)\\nLEFT JOIN PAISES                          PAIRG ON (PAIRG.HANDLE     = MAT.PAISEMISSOR)\\nLEFT JOIN PAISES                         PAISRG ON (PAISRG.HANDLE    = MAT.PAISEMISSOR)\\nLEFT JOIN ESTADOS                         ESTRG ON (ESTRG.HANDLE     = MAT.ESTADOEMISSOR)\\nLEFT JOIN SFN_PESSOA                       SFNP ON (SFNP.HANDLE      = FAM.PESSOARESPONSAVEL)\\nLEFT JOIN SAM_BENEFICIARIO                 FBEN ON (FBEN.HANDLE      = FAM.TITULARRESPONSAVEL)\\nLEFT JOIN SAM_CBO                           CBO ON (CBO.HANDLE       = BEN.CBO)\\nLEFT JOIN SAM_CONVENIO                     CONV ON (CONV.HANDLE      = BEN.CONVENIO)\\nLEFT JOIN SAM_ESTADOCIVIL                ESTCIV ON (ESTCIV.HANDLE    = BEN.ESTADOCIVIL)\\nLEFT JOIN SAM_CONTRATO_TPDEP          CONTTPDEP ON (CONTTPDEP.HANDLE = BEN.TIPODEPENDENTE)\\nLEFT JOIN SAM_TIPODEPENDENTE              TPDEP ON (TPDEP.HANDLE     = CONTTPDEP.TIPODEPENDENTE)\\nLEFT JOIN SAM_MOTIVOCANCELAMENTO           MCAN ON (MCAN.HANDLE      = BEN.MOTIVOCANCELAMENTO)\\nLEFT JOIN SAM_PLANO                         PLA ON (PLA.HANDLE       = BENPROD.PLANO_OBRIGATORIO(BEN.HANDLE))\\nLEFT JOIN SAM_ENDERECO                     ENDR ON (ENDR.HANDLE      = BEN.ENDERECORESIDENCIAL)\\nLEFT JOIN SAM_ENDERECO                     ENDC ON (ENDC.HANDLE      = BEN.ENDERECOCORRESPONDENCIA)\\nLEFT JOIN K_SAM_BENEFICIARIO_APOIOSAUDE     BAS ON (BAS.BENEFICIARIO = BEN.HANDLE)\\nLEFT JOIN MUNICIPIOS                       MUNR ON (MUNR.HANDLE      = ENDR.MUNICIPIO)\\nLEFT JOIN MUNICIPIOS                       MUNC ON (MUNC.HANDLE      = ENDC.MUNICIPIO)\\nLEFT JOIN ESTADOS                          ESTR ON (ESTR.HANDLE      = ENDR.ESTADO)\\nLEFT JOIN ESTADOS                          ESTC ON (ESTC.HANDLE      = ENDC.ESTADO)\\nLEFT JOIN SAM_UNIMED                       UNIO ON (UNIO.HANDLE      = NVL(CON.UNIMEDORIGEM,360))\\nLEFT JOIN SFN_PESSOA                   UNIO_PES ON (UNIO_PES.HANDLE  = UNIO.PESSOA)\\nLEFT JOIN SAM_POLITICA                      POL ON (POL.HANDLE       = UNIO.POLITICA)\\nLEFT JOIN SFN_PESSOA                       CPES ON (CPES.HANDLE      = CON.PESSOA)\\nLEFT JOIN SFN_PESSOA                       LPES ON (LPES.HANDLE      = LOT.PESSOAFATURAMENTO)\\nLEFT JOIN SAM_ENDERECO                  ENDUNIO ON (ENDUNIO.HANDLE   = UNIO.ENDERECO)\\nLEFT JOIN ESTADOS                       ESTUNIO ON (ESTUNIO.HANDLE   = ENDUNIO.ESTADO)\\nLEFT JOIN SAM_CAMARACOMPENSACAO_PREST CAMCOMPRE ON (CAMCOMPRE.UNIMED = UNIO.HANDLE)\\nLEFT JOIN SAM_CAMARACOMPENSACAO          CAMCOM ON (CAMCOM.HANDLE    = CAMCOMPRE.CAMARACOMPENSACAO)\\nLEFT JOIN (SELECT SBMO1.BENEFICIARIO  AS BENEFICIARIO\\n                 ,SBMR1.DATAINICIAL   AS DATA_INICIO_REPASSE\\n                 ,SBMR1.DATAFINAL     AS DATA_FINAL_REPASSE\\n           FROM   SAM_BENEFICIARIO_MOD_REPASSE  SBMR1\\n           JOIN   SAM_BENEFICIARIO_MOD          SBMO1 ON (SBMO1.HANDLE = SBMR1.BENEFICIARIOMOD)\\n           WHERE SBMR1.HANDLE          = (SELECT MAX(SBMR2.HANDLE)\\n                                          FROM   SAM_BENEFICIARIO_MOD_REPASSE  SBMR2\\n                                          JOIN   SAM_BENEFICIARIO_MOD          SBMO2 ON (SBMO2.HANDLE = SBMR2.BENEFICIARIOMOD)\\n                                          WHERE  SBMO2.BENEFICIARIO = SBMO1.BENEFICIARIO)) REPASSE ON (REPASSE.BENEFICIARIO = BEN.HANDLE)\\nLEFT JOIN (SELECT BHI.DATAATIVACAO AS DATA_REATIVACAO\\n                 ,BHI.BENEFICIARIO AS BENEFICIARIO\\n           FROM   SAM_BENEFICIARIO_HISTORICO BHI\\n           WHERE  BHI.HANDLE = (SELECT MAX(BHI2.HANDLE)\\n                                FROM   SAM_BENEFICIARIO_HISTORICO BHI2\\n                                WHERE  BHI2.ORIGEM       = 'R'\\n                                AND    BHI2.BENEFICIARIO = BHI.BENEFICIARIO\\n                                AND    BHI2.DATAATIVACAO = (SELECT MAX(BHI3.DATAATIVACAO)\\n                                                            FROM   SAM_BENEFICIARIO_HISTORICO BHI3\\n                                                            WHERE  BHI3.ORIGEM = 'R'\\n                                                            AND    BHI3.BENEFICIARIO = BHI.BENEFICIARIO))) REATIVACAO ON (REATIVACAO.BENEFICIARIO = BEN.HANDLE)\\n\\nLEFT JOIN (SELECT UNIDESI.CODIGO                            AS UNIMED_DESTINO\\n                 ,BENMODI.BENEFICIARIO                      AS BENEFICIARIO_UNIDES\\n                 ,NVL(UNIDES_PESI.NOME,UNIDESI.RAZAOSOCIAL) AS UNIMED_DESTINO_RAZAOSOCIAL\\n           FROM   SAM_BENEFICIARIO_MOD            BENMODI\\n           JOIN   SAM_BENEFICIARIO_MOD_REPASSE BENMODREPI ON (BENMODREPI.BENEFICIARIOMOD = BENMODI.HANDLE)\\n           JOIN   SAM_UNIMED                      UNIDESI ON (UNIDESI.HANDLE             = BENMODREPI.UNIMEDDESTINO)\\n           LEFT JOIN SFN_PESSOA               UNIDES_PESI ON (UNIDES_PESI.HANDLE         = UNIDESI.PESSOA)\\n           WHERE  BENMODREPI.HANDLE = (SELECT MAX(BENMODREPI2.HANDLE)\\n                                       FROM   SAM_BENEFICIARIO_MOD            BENMODI2\\n                                       JOIN   SAM_BENEFICIARIO_MOD_REPASSE BENMODREPI2 ON (BENMODREPI2.BENEFICIARIOMOD = BENMODI2.HANDLE)\\n                                       JOIN   SAM_UNIMED                      UNIDESI2 ON (UNIDESI2.HANDLE             = BENMODREPI2.UNIMEDDESTINO)\\n                                       WHERE  BENMODI2.BENEFICIARIO = BENMODI.BENEFICIARIO\\n                                       AND    UNIDESI2.CODIGO <> '0032')) UNIDES ON (UNIDES.BENEFICIARIO_UNIDES = BEN.HANDLE)\\nLEFT JOIN (SELECT BC.HANDLE,BC.BENEFICIARIO        AS BENEFICIARIO_CARTIDENTIF\\n                 ,BC.DATAFINALVALIDADE   AS DATA_VALID_CARTEIRA\\n                 ,BC.DATAGERACAO         AS DATA_GERAC_CARTEIRA\\n                 ,BC.DATAEMISSAO         AS DATA_EMISS_CARTEIRA\\n                 ,TP.DESCRICAO           AS TIPO_CARTAO\\n                 ,BC.DV                  AS DV\\n                 ,BC.VIA                 AS VIA_CARTAO\\n                 ,BC.DATAINICIALVALIDADE AS DATA_INICIAL_VALIDADE\\n                 ,BC.DATAFINALVALIDADE   AS DATA_FINAL_VALIDADE\\n                 ,BC.VALORFATURADO       AS VALOR_FATURADO\\n                 ,FAT.NUMERO             AS NUMERO_FATURA\\n                 ,DECODE(BC.SITUACAO, 'B', 'Bloqueado','C','Cancelado','N','Normal')    AS SITUACAO_CARTAO\\n                 ,DECODE(BC.SITUACAOATUALIZADADOS, 'B','Bloqueado','D', 'Desbloqueado') AS SITUACAO_ATUALIZACAO_DADOS\\n                 ,RC.DESCRICAO                                                          AS DESCRICAO_ROTINA_CARTAO\\n           FROM   SAM_BENEFICIARIO_CARTAOIDENTIF BC\\n           LEFT JOIN SAM_CONTRATO_TIPOCARTAO    CTP ON (BC.TIPOCARTAO           = CTP.HANDLE)\\n           LEFT JOIN SAM_TIPOCARTAO              TP ON (CTP.TIPOCARTAO          = TP.HANDLE)\\n           LEFT JOIN SFN_FATURA                 FAT ON (FAT.HANDLE              = BC.FATURA)\\n           LEFT JOIN SAM_ROTINACARTAO_CARTAO    RCC ON (RCC.CARTAOIDENTIFICACAO = BC.HANDLE)\\n           LEFT JOIN SAM_ROTINACARTAO            RC ON (RC.HANDLE               = RCC.ROTINACARTAO)\\n           WHERE  BC.HANDLE = (SELECT MAX(BCI.HANDLE)\\n                               FROM   SAM_BENEFICIARIO_CARTAOIDENTIF BCI\\n                               WHERE  BCI.BENEFICIARIO      = BC.BENEFICIARIO\\n                               AND   (BCI.DATAFINALVALIDADE = (SELECT MAX(BCI2.DATAFINALVALIDADE)\\n                                                               FROM   SAM_BENEFICIARIO_CARTAOIDENTIF BCI2\\n                                                               WHERE  BCI2.BENEFICIARIO = BCI.BENEFICIARIO\\n                                                               AND    BCI2.SITUACAO    <> 'C')\\n                                  OR BCI.DATAFINALVALIDADE = (SELECT MAX(BCI2.DATAFINALVALIDADE)\\n                                                               FROM   SAM_BENEFICIARIO_CARTAOIDENTIF BCI2\\n                                                               WHERE  BCI2.BENEFICIARIO = BCI.BENEFICIARIO)))) CARTIDENTIF ON (CARTIDENTIF.BENEFICIARIO_CARTIDENTIF = BEN.HANDLE)\\nWHERE  BEN.HANDLE = ?\"},\n",
       " {'query_name': 'teste',\n",
       "  'sql_code': 'SELECT FT.DATAINICIAL AS DATA_INICIAL_TETO_COBRANCA\\n      ,FT.DATAFINAL   AS DATA_FINAL_TETO_COBRANCA\\n      ,FT.VALORTETOPF AS VALOR_TETO_COBRANCA\\nFROM   SAM_FAMILIA_TETO_PF FT \\nWHERE  FT.FAMILIA = ?\\nAND    FT.HANDLE  = (SELECT MAX(FT1.HANDLE) FROM SAM_FAMILIA_TETO_PF FT1 WHERE FT1.FAMILIA = FT.FAMILIA)'},\n",
       " {'query_name': 'teste',\n",
       "  'sql_code': 'SELECT TRIM(B.CTT_DESC01) AS SETOR_UNIMED,\\n        TRIM(A.RA_TELEFON) AS TELEFONE/*,\\n        TRIM(A.RA_EMAIL)   AS EMAIL*/\\n  FROM SIGA.VW_SRA010 A,\\n        SIGA.CTT010 B\\n WHERE A.RA_MAT = ?\\n   AND B.CTT_CUSTO = A.RA_CC'},\n",
       " {'query_name': 'teste',\n",
       "  'sql_code': \"SELECT  NULL AS SETOR_UNIMED,\\n        '('||ENDR.DDD1||') '||ENDR.PREFIXO1||'-'||ENDR.NUMERO1 AS TELEFONE\\nFROM    SAM_BENEFICIARIO BEN\\nLEFT JOIN SAM_ENDERECO ENDR ON BEN.ENDERECORESIDENCIAL = ENDR.HANDLE\\nWHERE   BEN.HANDLE = ?\"}]"
      ]
     },
     "execution_count": 83,
     "metadata": {},
     "output_type": "execute_result"
    }
   ],
   "source": [
    "teste"
   ]
  },
  {
   "cell_type": "code",
   "execution_count": 45,
   "metadata": {},
   "outputs": [],
   "source": [
    "q = query_list('sql_files/bn_beneficiario/01_beneficiario.sql')"
   ]
  },
  {
   "cell_type": "code",
   "execution_count": 46,
   "metadata": {},
   "outputs": [],
   "source": [
    "queries = []  \n",
    "queries.append({\n",
    "    'step_name': 'teste',\n",
    "    'sql_code': q \n",
    "})  "
   ]
  },
  {
   "cell_type": "code",
   "execution_count": 47,
   "metadata": {},
   "outputs": [
    {
     "data": {
      "text/plain": [
       "[{'step_name': 'teste',\n",
       "  'sql_code': \"SELECT \\n       BEN.HANDLE                                                                         AS ID_BENEFICIARIO\\n      ,FAM.HANDLE                                                                         AS ID_FAMILIA\\n      ,CON.HANDLE                                                                         AS ID_CONTRATANTE\\n      ,NVL(LOT.HANDLE,0)                                                                  AS ID_CONTRATANTE_LOT\\n      ,PLA.HANDLE                                                                         AS ID_PLANO\\n      ,(SELECT MAX(BEN_TIT.HANDLE) \\n        FROM   SAM_BENEFICIARIO BEN_TIT \\n        WHERE  BEN_TIT.FAMILIA   = BEN.FAMILIA \\n        AND    BEN_TIT.EHTITULAR = 'S')                                                   AS ID_BENEFICIARIO_RESP\\n      ,CASE\\n         WHEN CON.LOCALFATURAMENTO = 'C' THEN CPES.HANDLE --CPES\\n         WHEN CON.LOCALFATURAMENTO = 'L' THEN LPES.HANDLE --LPES\\n         WHEN CON.LOCALFATURAMENTO = 'F' THEN\\n           CASE\\n             WHEN FAM.TITULARRESPONSAVEL IS NOT NULL THEN FBEN.HANDLE --FBEN\\n             WHEN FAM.PESSOARESPONSAVEL  IS NOT NULL THEN SFNP.HANDLE --SFNP\\n           END\\n       END                                                                                AS ID_RESP_FINANCEIRO\\n      ,CASE\\n        WHEN BEN.DATACANCELAMENTO < SYSDATE THEN BEN.MOTIVOCANCELAMENTO\\n        WHEN MCAN.CODIGO = 101 AND (BEN.TABORIGEM = 3 OR (BEN.TABORIGEM = 2 AND CON.ESPELHO = 'S')) THEN NULL\\n        ELSE BEN.MOTIVOCANCELAMENTO\\n       END                                                                                 AS ID_MOTIVO_CANC\\n       --Dados Beneficiario\\n      ,SUBSTR(BEN.BENEFICIARIO,1,4)                                                        AS CODIGO_UNI_PAG\\n      ,BEN.CODIGODEAFINIDADE                                                               AS CODIGO_AFINIDADE\\n      ,BEN.BENEFICIARIO                                                                    AS CODIGO_BENEFICIARIO\\n      ,BEN.CODIGODEORIGEM                                                                  AS CODIGO_ORIGEM\\n      ,BEN.CODIGOANS                                                                       AS COD_BENEFICIARIO_ANS -- Código que deve ser utilizado - RN da ANS nº 250\\n      ,BEN.DATAADESAO                                                                      AS DATA_ADESAO\\n      ,BEN.DATAPRIMEIRAADESAO                                                              AS DATA_PRIM_ADESAO_BENEF\\n      ,BEN.ATENDIMENTOATE                                                                  AS DATA_ATENDIMENTO_ATE\\n      ,BEN.DATAULTIMAATUCADASTRAL                                                          AS DATA_ULTIMA_ATU_CADASTRAL\\n      ,BEN.DATAADAPTACAO                                                                   AS DATA_ADAPTACAO \\n      ,BEN.IDADEADAPTACAO                                                                  AS IDADE_ADAPTACAO\\n      ,BEN.DIASCOMPRACARENCIA                                                              AS DIAS_COMPRA_CARENCIA\\n      ,BEN.EMAIL                                                                           AS EMAIL\\n      ,BEN.SEQUENCIA                                                                       AS SEQUENCIA\\n      ,BEN.CCO                                                                             AS CCO\\n      ,BEN.CCODV                                                                           AS CCO_DV\\n      ,BEN.K_EMAIL                                                                         AS K_EMAIL_ZENITE\\n      ,BEN.K_TELEFONE1                                                                     AS K_TELEFONE1_ZENITE\\n      ,BEN.K_TELEFONE2                                                                     AS K_TELEFONE2_ZENITE\\n      ,BEN.K_EMAILIRIS                                                                     AS K_EMAIL_IRIS\\n      ,BEN.K_EMAILIW                                                                       AS K_EMAIL_IW\\n      ,BEN.K_TELEFONE1IW                                                                   AS K_TELEFONE1_IW\\n      ,BEN.K_TELEFONE2IW                                                                   AS K_TELEFONE2_IW\\n      ,BEN.K_TELEFONE3IW                                                                   AS K_TELEFONE3_IW\\n      ,BEN.K_TELEFONE4IW                                                                   AS K_TELEFONE4_IW\\n      ,BEN.K_EMAILSAC                                                                      AS K_EMAIL_SAC\\n      ,BEN.K_TELEFONERESSAC                                                                AS K_TELEFONE_RES_SAC\\n      ,BEN.K_TELEFONECONTATOSAC                                                            AS K_TELEFONE_CONTATO_SAC\\n      ,BEN.K_CELULARSAC                                                                    AS K_TELEFONE_CELULAR_SAC\\n      ,NVL(TRIM(BEN.Z_NOME),TRIM(BEN.NOME))                                                AS BENEFICIARIO     \\n      ,DECODE(BEN.NAOTEMCARENCIA, 'S','Sim','N','Não')                                     AS NAO_TEM_CARENCIA\\n      ,DECODE(BEN.SOFREUADAPTACAO, 1,'Não',2,'Sim')                                        AS SOFREU_ADAPTACAO\\n      ,DECODE(BEN.TABORIGEM, 1,'Próprio',2,'Assumido',3,'Assumido-Eventual')               AS ORIGEM\\n      ,DECODE(BEN.BLOQUEIARECADBIOAUTORIZADORWEB,'S','Sim','N','Não')                      AS BLOQUEAR_RECAD_BIO_AUT_WEB\\n      ,DECODE(FAM.COBRANCANOMESSEGUINTE,'S','Sim','N','Não')                               AS COBRANCA_MES_SEGUINTE\\n      ,CASE \\n          WHEN BEN.DATACANCELAMENTO > REATIVACAO.DATA_REATIVACAO THEN NULL\\n          ELSE REATIVACAO.DATA_REATIVACAO\\n       END                                                                                 AS DATA_REATIVACAO\\n      ,CASE\\n          WHEN BEN.DATACANCELAMENTO < SYSDATE THEN BEN.DATACANCELAMENTO\\n          WHEN MCAN.CODIGO = 101 AND \\n              (BEN.TABORIGEM = 3 OR \\n              (BEN.TABORIGEM = 2 \\n              AND CON.ESPELHO = 'S')) THEN NULL\\n          ELSE BEN.DATACANCELAMENTO\\n       END                                                                                 AS DATA_CANCELAMENTO\\n      ,CASE\\n        WHEN CON.INTERCAMBIO = 1 THEN 'Sim'\\n        WHEN CON.INTERCAMBIO = 2 THEN 'Não'\\n       END                                                                                 AS INTERCAMBIO\\n\\n       --Matricula\\n      ,MAT.CPF                                                                             AS CPF_BENEFICIARIO\\n      ,MAT.DATAINGRESSO                                                                    AS DATA_INGRESSO\\n      ,MAT.CARTAONACIONALSAUDE                                                             AS CARTAO_NACIONAL_SAUDE\\n      ,MAT.DNV                                                                             AS DNV\\n      ,MAT.DATAEXPEDICAORG                                                                 AS DATA_EXPED_RG\\n      ,MAT.DATANASCIMENTO                                                                  AS DATA_NASCIMENTO\\n      ,MAT.DATAINGRESSO                                                                    AS DATA_PRIMEIRA_ADESAO\\n      ,MAT.RG                                                                              AS RG_BENEFICIARIO\\n      ,MAT.SEXO                                                                            AS SEXO\\n      ,MAT.MATRICULA                                                                       AS MATRICULA_UNICA\\n      ,MAT.ORGAOEMISSOR                                                                    AS ORGAO_EMISSOR_RG\\n      ,MAT.DATAFALECIMENTO                                                                 AS DATA_FALECIMENTO\\n      ,MAT.PISPASEP                                                                        AS PISPASEP\\n      ,MAT.NOMEMAE                                                                         AS NOME_MAE\\n       --Família\\n      ,FAM.FAMILIA                                                                         AS CODIGO_FAMILIA\\n      ,FAM.DATAADESAO                                                                      AS DATA_ADESAO_FAMILIA\\n      ,FAM.DATAVENDA                                                                       AS DATA_VENDA_FAMILIA      \\n      ,FAM.DATAINICIOINATIVIDADE                                                           AS DATA_INICIO_INAT_FAMILIA\\n      ,FAM.DATACANCELAMENTO                                                                AS DATA_CANCELAMENTO_FAMILIA\\n      ,FAM.DATAINCLUSAO                                                                    AS DATA_INCLUSAO_FAMILIA\\n      ,FAM.DATAULTIMOREAJUSTE                                                              AS DATA_ULTIMO_REAJUSTE_FAMILIA\\n      ,FAM.NUMEROPROPOSTA                                                                  AS NUM_PROPOSTA_FAMILIA\\n      ,FAM.DIACOBRANCA                                                                     AS DIA_COBRANCA\\n      ,CASE\\n         WHEN FAM.LEIDEMITIDOSAPOSENTADOS = 1 THEN 'Ativo'\\n         WHEN FAM.LEIDEMITIDOSAPOSENTADOS = 2 THEN 'Demitido'\\n         WHEN FAM.LEIDEMITIDOSAPOSENTADOS = 3 THEN 'Aposentado'\\n       END                                                                                 AS SITUACAO_FAMILIA\\n       --Contrato\\n      ,CON.CONTRATO                                                                        AS CONTRATO\\n      ,CON.CONTRATANTE                                                                     AS CONTRATANTE\\n      ,CON.DATAADESAO                                                                      AS DATA_ADESAO_CONTRATO\\n      ,CON.DATACANCELAMENTO                                                                AS DATA_CANC_CONTRATO\\n      ,LOT.DESCRICAO                                                                       AS LOTACAO\\n      ,CONTTPDEP.IDADEMAXIMA                                                               AS IDADE_MAXIMA\\n      ,CBO.ESTRUTURA||' - '||CBO.DESCRICAO                                                 AS CBO\\n      ,CONV.DESCRICAO                                                                      AS CONVENIO\\n      ,PLA.CODIGO                                                                          AS CODIGO_PLANO\\n      ,TPDEP.DESCRICAO                                                                     AS TIPO_DEPENDENTE\\n      ,TPDEP.CODIGOANS                                                                     AS COD_GRAU_DEPEND_ANS\\n      ,ESTCIV.DESCRICAO                                                                    AS ESTADO_CIVIL\\n      ,PAI.GENTILICO                                                                       AS NACIONALIDADE\\n      ,PAIRG.NOME                                                                          AS PAIS_RG\\n      ,PAISRG.CODIGOANS                                                                    AS COD_PAIS_RG_ANS      \\n      ,ESTR.SIGLA                                                                          AS UF\\n      ,ESTRG.SIGLA                                                                         AS UF_RG\\n      ,NVL(ESTUNIO.SIGLA,'PR')                                                             AS UF_UNI_ORIGEM\\n      ,NVL(UNIO.CODIGO,'0032')                                                             AS UNI_ORIGEM\\n      ,NVL(POL.DESCRICAO,'Estadual')                                                       AS UNI_ORIGEM_DESC_POLITICA\\n      ,DECODE(BAS.UNIMEDEMCASA,'N','Não','S','Sim',BAS.UNIMEDEMCASA)                      AS UNIMED_EM_CASA\\n      ,DECODE(BAS.BEMESTARESAUDE,'N','Não','S','Sim',BAS.BEMESTARESAUDE)                  AS BEM_ESTAR_E_SAUDE\\n      ,(SELECT USU.NOME FROM Z_GRUPOUSUARIOS USU WHERE USU.HANDLE = FAM.USUARIOINCLUSAO)  AS USUARIO_INCLUSAO_FAMILIA\\n      ,NVL(UNIDES.UNIMED_DESTINO,'0032')                                                  AS UNI_DESTINO\\n      ,NVL(NVL(UNIO_PES.NOME,UNIO.RAZAOSOCIAL),'UNIMED CURITIBA SOC COOPERATIVA MEDICOS') AS UNI_ORIGEM_RAZAOSOCIAL\\n      ,NVL(UNIDES.UNIMED_DESTINO_RAZAOSOCIAL,'UNIMED CURITIBA SOC COOPERATIVA MEDICOS')   AS UNI_DESTINO_RAZAOSOCIAL\\n      ,MUNR.NOME                                                                          AS CIDADE\\n      ,MUNR.CODIGOIBGE                                                                    AS CODIGO_IBGE\\n      ,ENDR.BAIRRO                                                                        AS BAIRRO\\n      ,ENDR.CEP                                                                           AS CEP\\n      ,ENDR.COMPLEMENTO                                                                   AS COMPLEMENTO\\n      ,ENDR.DDD1                                                                          AS DDD\\n      ,ENDR.LOGRADOURO                                                                    AS ENDERECO\\n      ,ENDR.NUMERO                                                                        AS NUMERO\\n      ,'('||ENDR.DDD2||') '||ENDR.PREFIXO2||'-'||ENDR.NUMERO2                             AS TELEFONE2\\n      ,'('||ENDR.DDDCELULAR||') '||ENDR.PREFIXOCELULAR||'-'||ENDR.NUMEROCELULAR           AS CELULAR\\n      ,MUNC.NOME                                                                          AS CIDADE_CORRESP\\n      ,ENDC.CEP                                                                           AS CEP_CORRESP\\n      ,ENDC.BAIRRO                                                                        AS BAIRRO_CORRESP\\n      ,ENDC.COMPLEMENTO                                                                   AS COMPLEMENTO_CORRESP\\n      ,ENDC.LOGRADOURO                                                                    AS ENDERECO_CORRESP\\n      ,ENDC.NUMERO                                                                        AS NUMERO_CORRESP\\n      ,ESTC.SIGLA                                                                         AS UF_CORRESP\\n      ,'('||ENDC.DDD1||') '||ENDC.PREFIXO1||'-'||ENDC.NUMERO1                             AS TELEFONE1_CORRESP\\n      ,'('||ENDC.DDD2||') '||ENDC.PREFIXO2||'-'||ENDC.NUMERO2                             AS TELEFONE2_CORRESP\\n      ,'('||ENDC.DDDCELULAR||') '||ENDC.PREFIXOCELULAR||'-'||ENDC.NUMEROCELULAR           AS CELULAR_CORRESP\\n       --Cartão Benef\\n      ,CARTIDENTIF.TIPO_CARTAO                                                            AS TIPO_CARTAO\\n      ,CARTIDENTIF.DV                                                                     AS DV_CARTAO_BENEF\\n      ,CARTIDENTIF.VIA_CARTAO                                                             AS VIA_CARTAO\\n      ,CARTIDENTIF.DATA_VALID_CARTEIRA                                                    AS DATA_VALID_CARTEIRA\\n      ,CARTIDENTIF.DATA_GERAC_CARTEIRA                                                    AS DATA_GERAC_CARTEIRA\\n      ,CARTIDENTIF.DATA_EMISS_CARTEIRA                                                    AS DATA_EMISS_CARTEIRA\\n      ,CARTIDENTIF.DATA_INICIAL_VALIDADE                                                  AS DATA_INICIAL_VALIDADE\\n      ,CARTIDENTIF.DATA_FINAL_VALIDADE                                                    AS DATA_FINAL_VALIDADE\\n      ,CARTIDENTIF.SITUACAO_CARTAO                                                        AS SITUACAO_CARTAO\\n      ,CARTIDENTIF.VALOR_FATURADO                                                         AS VALOR_FATURADO\\n      ,CARTIDENTIF.NUMERO_FATURA                                                          AS NUMERO_FATURA\\n      ,CARTIDENTIF.SITUACAO_ATUALIZACAO_DADOS                                             AS SITUACAO_ATUALIZACAO_DADOS\\n      ,CARTIDENTIF.DESCRICAO_ROTINA_CARTAO                                                AS DESCRICAO_ROTINA_CARTAO\\n      ,REPASSE.DATA_INICIO_REPASSE                                                        AS DATA_INICIO_REPASSE\\n      ,REPASSE.DATA_FINAL_REPASSE                                                         AS DATA_FINAL_REPASSE\\n       --\\n      ,CASE  \\n        WHEN ((SELECT MAX(CID.QTDCPT) FROM SAM_BENEFICIARIO_CID CID       WHERE CID.BENEFICIARIO = BEN.HANDLE) > SYSDATE - CON.DATAADESAO) OR\\n             ((SELECT MAX(EVE.QTDCPT) FROM SAM_BENEFICIARIO_EVENTO EVE    WHERE EVE.BENEFICIARIO = BEN.HANDLE) > SYSDATE - CON.DATAADESAO) OR\\n             ((SELECT MAX(PAT.QTDCPT) FROM SAM_BENEFICIARIO_PATOLOGIA PAT WHERE PAT.BENEFICIARIO = BEN.HANDLE) > SYSDATE - CON.DATAADESAO)\\n        THEN           'S'\\n        ELSE           'N'\\n       END                                                                                AS CPT\\n      ,CASE\\n        WHEN CON.LOCALFATURAMENTO = 'C' THEN 'P'\\n        WHEN CON.LOCALFATURAMENTO = 'L' THEN 'P'\\n        WHEN CON.LOCALFATURAMENTO = 'F' THEN\\n          CASE\\n            WHEN FAM.TITULARRESPONSAVEL IS NOT NULL THEN 'B'\\n            WHEN FAM.PESSOARESPONSAVEL IS NOT NULL THEN 'P'\\n          END\\n       END                                                                                AS TIPO_RESPONSAVEL\\n      ,CASE\\n        WHEN CON.CONTRATO = 53478 AND \\n             TPDEP.DESCRICAO = 'Titular' THEN LPAD(BEN.MATRICULAFUNCIONAL,6,0)\\n        ELSE BEN.MATRICULAFUNCIONAL\\n       END                                                                                AS MATRIC_BEN_EMPRESA\\n      ,CASE\\n        WHEN BEN.DATACANCELAMENTO < SYSDATE THEN MCAN.DESCRICAO\\n        WHEN MCAN.CODIGO = 101 AND \\n            (BEN.TABORIGEM = 3 OR (BEN.TABORIGEM = 2 AND CON.ESPELHO = 'S')) THEN NULL\\n        ELSE MCAN.DESCRICAO\\n       END                                                                                AS MOTIVO_CANC\\n      ,CASE\\n        WHEN BEN.MOTIVOINCLUSAO = 5 THEN 'Novo beneficiário'\\n        WHEN BEN.MOTIVOINCLUSAO = 6 THEN 'Transferência voluntária de carteira'\\n        WHEN BEN.MOTIVOINCLUSAO = 7 THEN 'Transferência compulsória de carteira'\\n        ELSE NULL\\n       END                                                                                AS MOTIVO_INCLUSAO\\n      ,CASE\\n        WHEN NVL(UNIO.CODIGO,'0032') = '0032' AND NVL(UNIDES.UNIMED_DESTINO,'0032') = '0032' THEN 'Próprio'\\n        WHEN NVL(UNIDES.UNIMED_DESTINO,'0032') <> '0032' THEN 'Repassado'\\n        WHEN NVL(UNIO.CODIGO,'0032') <> '0032' THEN\\n             CASE\\n               WHEN BEN.TABORIGEM = 2 THEN 'Assumido'\\n               WHEN BEN.TABORIGEM = 3 THEN 'Assumido-Eventual'\\n               ELSE 'Assumido'\\n             END\\n       END                                                                                AS TIPO_BENEFICIARIO\\n      ,CASE\\n        WHEN UNIO.HANDLE IS NULL THEN 'Estadual'\\n        WHEN CAMCOM.DESCRICAO IS NULL THEN 'Sem Informação'\\n        ELSE CAMCOM.DESCRICAO\\n       END                                                                                AS UNI_ORIGEM_CAMARA_COMPENSACAO\\n      ,CASE\\n        WHEN UNIO.HANDLE IS NULL THEN '2-Federativa'\\n        WHEN CAMCOM.TIPOCAMARA IS NULL THEN 'Sem Informação'\\n        ELSE DECODE(CAMCOM.TIPOCAMARA ,1,'1-Intra-Federativa'\\n                                      ,2,'2-Federativa'\\n                                      ,3,'3-Inter-Federativa'\\n                                      ,4,'4-Nacional')\\n       END                                                                                AS UNI_ORIGEM_TIPO_CAMARA_COMP\\n      ,CASE\\n        WHEN UNIDES.UNIMED_DESTINO IS NOT NULL THEN\\n          ( SELECT TIP.DESCRICAO\\n              FROM SIS_TIPOFATURAMENTO  TIP\\n                 , SAM_UNIMED           UNI\\n                 , SAM_REPASSEINTER     REP\\n             WHERE TIP.HANDLE       = REP.TIPOFATURAMENTO\\n               AND UNI.CODIGO       = UNIDES.UNIMED_DESTINO\\n               AND UNI.HANDLE       = REP.UNIMEDDESTINO\\n               AND REP.DATAINICIAL <= TRUNC(SYSDATE)\\n               AND ( REP.DATAFINAL IS NULL\\n                  OR REP.DATAFINAL >= TRUNC(SYSDATE)\\n                   )\\n               AND REP.CONTRATO      = CON.HANDLE\\n               AND ROWNUM            = 1 )\\n        ELSE\\n          NULL\\n       END                                                                                AS TIPO_FATURAMENTO_REP\\n     ,(SELECT LISTAGG(SUBSTR('('||TO_CHAR(F.DATA,'DD/MM/YYYY')||') '||A.DESCRICAO||': '||SUBSTR(F.OBSERVACAO,0,255),0,4000), '; ') WITHIN GROUP (ORDER BY 1)\\n       FROM   SAM_FAMILIA_ANOTADM F\\n       LEFT   JOIN SAM_ANOTACAOADMINISTRATIVA A ON F.ANOTACAO = A.HANDLE\\n       WHERE   F.FAMILIA = BEN.FAMILIA)                                                   AS ANOTACAO_ADM_FAMILIA\\n     ,CASE\\n        WHEN EXISTS (SELECT 1 \\n                     FROM   AWE_BIOMETRIA BIO \\n                     WHERE  BIO.TIPO = 'B'\\n                     AND    BIO.OPERADORA||SUBSTR(BIO.CODIGO,1,LENGTH(BIO.CODIGO)-1) = BEN.BENEFICIARIO) THEN 'Sim'\\n        ELSE 'Não'\\n      END                                                                                 AS POSSUI_BIOMETRIA\\n     ,(SELECT OCA.DESCRICAO\\n       FROM   SAM_CONTRATO_ORIGEMCARENCIA  COC\\n       JOIN   SAM_ORIGEMCARENCIA           OCA ON (OCA.HANDLE = COC.ORIGEMCARENCIA)\\n       WHERE  COC.HANDLE = BEN.ORIGEMCARENCIA )                                           AS ORIGEM_CARENCIA\\n       --Handles\\n      ,NVL(FAM.HANDLE,0)                                                                  AS HANDLE_FAMILIA\\n      ,BEN.CONTRATO                                                                       AS HANDLE_CONTRATO\\n      ,FAM.TITULARRESPONSAVEL                                                             AS HANDLE_TITULARRESPONSAVEL\\n      ,FAM.PESSOARESPONSAVEL                                                              AS HANDLE_PESSOARESPONSAVEL\\n      ,FAM.LOTACAO                                                                        AS HANDLE_LOTACAO\\n      ,CON.LOCALFATURAMENTO                                                               AS LOCAL_FATURAMENTO\\n      ,SYSDATE                                                                            AS DW_INC\\n      ,SYSDATE                                                                            AS DW_ALT\\nFROM   SAM_BENEFICIARIO                     BEN\\nLEFT JOIN SAM_CONTRATO                      CON ON (CON.HANDLE       = BEN.CONTRATO)\\nLEFT JOIN SAM_FAMILIA                       FAM ON (FAM.HANDLE       = BEN.FAMILIA AND FAM.CONTRATO = BEN.CONTRATO)\\nLEFT JOIN SAM_MATRICULA                     MAT ON (MAT.HANDLE       = BEN.MATRICULA)\\nLEFT JOIN SAM_CONTRATO_LOTACAO              LOT ON (LOT.HANDLE       = FAM.LOTACAO)\\nLEFT JOIN PAISES                            PAI ON (PAI.HANDLE       = MAT.NACIONALIDADE)\\nLEFT JOIN PAISES                          PAIRG ON (PAIRG.HANDLE     = MAT.PAISEMISSOR)\\nLEFT JOIN PAISES                         PAISRG ON (PAISRG.HANDLE    = MAT.PAISEMISSOR)\\nLEFT JOIN ESTADOS                         ESTRG ON (ESTRG.HANDLE     = MAT.ESTADOEMISSOR)\\nLEFT JOIN SFN_PESSOA                       SFNP ON (SFNP.HANDLE      = FAM.PESSOARESPONSAVEL)\\nLEFT JOIN SAM_BENEFICIARIO                 FBEN ON (FBEN.HANDLE      = FAM.TITULARRESPONSAVEL)\\nLEFT JOIN SAM_CBO                           CBO ON (CBO.HANDLE       = BEN.CBO)\\nLEFT JOIN SAM_CONVENIO                     CONV ON (CONV.HANDLE      = BEN.CONVENIO)\\nLEFT JOIN SAM_ESTADOCIVIL                ESTCIV ON (ESTCIV.HANDLE    = BEN.ESTADOCIVIL)\\nLEFT JOIN SAM_CONTRATO_TPDEP          CONTTPDEP ON (CONTTPDEP.HANDLE = BEN.TIPODEPENDENTE)\\nLEFT JOIN SAM_TIPODEPENDENTE              TPDEP ON (TPDEP.HANDLE     = CONTTPDEP.TIPODEPENDENTE)\\nLEFT JOIN SAM_MOTIVOCANCELAMENTO           MCAN ON (MCAN.HANDLE      = BEN.MOTIVOCANCELAMENTO)\\nLEFT JOIN SAM_PLANO                         PLA ON (PLA.HANDLE       = BENPROD.PLANO_OBRIGATORIO(BEN.HANDLE))\\nLEFT JOIN SAM_ENDERECO                     ENDR ON (ENDR.HANDLE      = BEN.ENDERECORESIDENCIAL)\\nLEFT JOIN SAM_ENDERECO                     ENDC ON (ENDC.HANDLE      = BEN.ENDERECOCORRESPONDENCIA)\\nLEFT JOIN K_SAM_BENEFICIARIO_APOIOSAUDE     BAS ON (BAS.BENEFICIARIO = BEN.HANDLE)\\nLEFT JOIN MUNICIPIOS                       MUNR ON (MUNR.HANDLE      = ENDR.MUNICIPIO)\\nLEFT JOIN MUNICIPIOS                       MUNC ON (MUNC.HANDLE      = ENDC.MUNICIPIO)\\nLEFT JOIN ESTADOS                          ESTR ON (ESTR.HANDLE      = ENDR.ESTADO)\\nLEFT JOIN ESTADOS                          ESTC ON (ESTC.HANDLE      = ENDC.ESTADO)\\nLEFT JOIN SAM_UNIMED                       UNIO ON (UNIO.HANDLE      = NVL(CON.UNIMEDORIGEM,360))\\nLEFT JOIN SFN_PESSOA                   UNIO_PES ON (UNIO_PES.HANDLE  = UNIO.PESSOA)\\nLEFT JOIN SAM_POLITICA                      POL ON (POL.HANDLE       = UNIO.POLITICA)\\nLEFT JOIN SFN_PESSOA                       CPES ON (CPES.HANDLE      = CON.PESSOA)\\nLEFT JOIN SFN_PESSOA                       LPES ON (LPES.HANDLE      = LOT.PESSOAFATURAMENTO)\\nLEFT JOIN SAM_ENDERECO                  ENDUNIO ON (ENDUNIO.HANDLE   = UNIO.ENDERECO)\\nLEFT JOIN ESTADOS                       ESTUNIO ON (ESTUNIO.HANDLE   = ENDUNIO.ESTADO)\\nLEFT JOIN SAM_CAMARACOMPENSACAO_PREST CAMCOMPRE ON (CAMCOMPRE.UNIMED = UNIO.HANDLE)\\nLEFT JOIN SAM_CAMARACOMPENSACAO          CAMCOM ON (CAMCOM.HANDLE    = CAMCOMPRE.CAMARACOMPENSACAO)\\nLEFT JOIN (SELECT SBMO1.BENEFICIARIO  AS BENEFICIARIO\\n                 ,SBMR1.DATAINICIAL   AS DATA_INICIO_REPASSE\\n                 ,SBMR1.DATAFINAL     AS DATA_FINAL_REPASSE\\n           FROM   SAM_BENEFICIARIO_MOD_REPASSE  SBMR1\\n           JOIN   SAM_BENEFICIARIO_MOD          SBMO1 ON (SBMO1.HANDLE = SBMR1.BENEFICIARIOMOD)\\n           WHERE SBMR1.HANDLE          = (SELECT MAX(SBMR2.HANDLE)\\n                                          FROM   SAM_BENEFICIARIO_MOD_REPASSE  SBMR2\\n                                          JOIN   SAM_BENEFICIARIO_MOD          SBMO2 ON (SBMO2.HANDLE = SBMR2.BENEFICIARIOMOD)\\n                                          WHERE  SBMO2.BENEFICIARIO = SBMO1.BENEFICIARIO)) REPASSE ON (REPASSE.BENEFICIARIO = BEN.HANDLE)\\nLEFT JOIN (SELECT BHI.DATAATIVACAO AS DATA_REATIVACAO\\n                 ,BHI.BENEFICIARIO AS BENEFICIARIO\\n           FROM   SAM_BENEFICIARIO_HISTORICO BHI\\n           WHERE  BHI.HANDLE = (SELECT MAX(BHI2.HANDLE)\\n                                FROM   SAM_BENEFICIARIO_HISTORICO BHI2\\n                                WHERE  BHI2.ORIGEM       = 'R'\\n                                AND    BHI2.BENEFICIARIO = BHI.BENEFICIARIO\\n                                AND    BHI2.DATAATIVACAO = (SELECT MAX(BHI3.DATAATIVACAO)\\n                                                            FROM   SAM_BENEFICIARIO_HISTORICO BHI3\\n                                                            WHERE  BHI3.ORIGEM = 'R'\\n                                                            AND    BHI3.BENEFICIARIO = BHI.BENEFICIARIO))) REATIVACAO ON (REATIVACAO.BENEFICIARIO = BEN.HANDLE)\\n\\nLEFT JOIN (SELECT UNIDESI.CODIGO                            AS UNIMED_DESTINO\\n                 ,BENMODI.BENEFICIARIO                      AS BENEFICIARIO_UNIDES\\n                 ,NVL(UNIDES_PESI.NOME,UNIDESI.RAZAOSOCIAL) AS UNIMED_DESTINO_RAZAOSOCIAL\\n           FROM   SAM_BENEFICIARIO_MOD            BENMODI\\n           JOIN   SAM_BENEFICIARIO_MOD_REPASSE BENMODREPI ON (BENMODREPI.BENEFICIARIOMOD = BENMODI.HANDLE)\\n           JOIN   SAM_UNIMED                      UNIDESI ON (UNIDESI.HANDLE             = BENMODREPI.UNIMEDDESTINO)\\n           LEFT JOIN SFN_PESSOA               UNIDES_PESI ON (UNIDES_PESI.HANDLE         = UNIDESI.PESSOA)\\n           WHERE  BENMODREPI.HANDLE = (SELECT MAX(BENMODREPI2.HANDLE)\\n                                       FROM   SAM_BENEFICIARIO_MOD            BENMODI2\\n                                       JOIN   SAM_BENEFICIARIO_MOD_REPASSE BENMODREPI2 ON (BENMODREPI2.BENEFICIARIOMOD = BENMODI2.HANDLE)\\n                                       JOIN   SAM_UNIMED                      UNIDESI2 ON (UNIDESI2.HANDLE             = BENMODREPI2.UNIMEDDESTINO)\\n                                       WHERE  BENMODI2.BENEFICIARIO = BENMODI.BENEFICIARIO\\n                                       AND    UNIDESI2.CODIGO <> '0032')) UNIDES ON (UNIDES.BENEFICIARIO_UNIDES = BEN.HANDLE)\\nLEFT JOIN (SELECT BC.HANDLE,BC.BENEFICIARIO        AS BENEFICIARIO_CARTIDENTIF\\n                 ,BC.DATAFINALVALIDADE   AS DATA_VALID_CARTEIRA\\n                 ,BC.DATAGERACAO         AS DATA_GERAC_CARTEIRA\\n                 ,BC.DATAEMISSAO         AS DATA_EMISS_CARTEIRA\\n                 ,TP.DESCRICAO           AS TIPO_CARTAO\\n                 ,BC.DV                  AS DV\\n                 ,BC.VIA                 AS VIA_CARTAO\\n                 ,BC.DATAINICIALVALIDADE AS DATA_INICIAL_VALIDADE\\n                 ,BC.DATAFINALVALIDADE   AS DATA_FINAL_VALIDADE\\n                 ,BC.VALORFATURADO       AS VALOR_FATURADO\\n                 ,FAT.NUMERO             AS NUMERO_FATURA\\n                 ,DECODE(BC.SITUACAO, 'B', 'Bloqueado','C','Cancelado','N','Normal')    AS SITUACAO_CARTAO\\n                 ,DECODE(BC.SITUACAOATUALIZADADOS, 'B','Bloqueado','D', 'Desbloqueado') AS SITUACAO_ATUALIZACAO_DADOS\\n                 ,RC.DESCRICAO                                                          AS DESCRICAO_ROTINA_CARTAO\\n           FROM   SAM_BENEFICIARIO_CARTAOIDENTIF BC\\n           LEFT JOIN SAM_CONTRATO_TIPOCARTAO    CTP ON (BC.TIPOCARTAO           = CTP.HANDLE)\\n           LEFT JOIN SAM_TIPOCARTAO              TP ON (CTP.TIPOCARTAO          = TP.HANDLE)\\n           LEFT JOIN SFN_FATURA                 FAT ON (FAT.HANDLE              = BC.FATURA)\\n           LEFT JOIN SAM_ROTINACARTAO_CARTAO    RCC ON (RCC.CARTAOIDENTIFICACAO = BC.HANDLE)\\n           LEFT JOIN SAM_ROTINACARTAO            RC ON (RC.HANDLE               = RCC.ROTINACARTAO)\\n           WHERE  BC.HANDLE = (SELECT MAX(BCI.HANDLE)\\n                               FROM   SAM_BENEFICIARIO_CARTAOIDENTIF BCI\\n                               WHERE  BCI.BENEFICIARIO      = BC.BENEFICIARIO\\n                               AND   (BCI.DATAFINALVALIDADE = (SELECT MAX(BCI2.DATAFINALVALIDADE)\\n                                                               FROM   SAM_BENEFICIARIO_CARTAOIDENTIF BCI2\\n                                                               WHERE  BCI2.BENEFICIARIO = BCI.BENEFICIARIO\\n                                                               AND    BCI2.SITUACAO    <> 'C')\\n                                  OR BCI.DATAFINALVALIDADE = (SELECT MAX(BCI2.DATAFINALVALIDADE)\\n                                                               FROM   SAM_BENEFICIARIO_CARTAOIDENTIF BCI2\\n                                                               WHERE  BCI2.BENEFICIARIO = BCI.BENEFICIARIO)))) CARTIDENTIF ON (CARTIDENTIF.BENEFICIARIO_CARTIDENTIF = BEN.HANDLE)\\nWHERE  BEN.HANDLE = ?\"}]"
      ]
     },
     "execution_count": 47,
     "metadata": {},
     "output_type": "execute_result"
    }
   ],
   "source": [
    "queries"
   ]
  },
  {
   "cell_type": "code",
   "execution_count": 48,
   "metadata": {},
   "outputs": [],
   "source": [
    "sql_analyst = Agent(\n",
    "    role = \"Senior Data Analyst\",\n",
    "    goal = \"Analyse and complex sql queries and extract table name vs column name relation from all tables on the querie\",\n",
    "    backstory=dedent(\n",
    "        \"\"\"\n",
    "        You're a highly specialized developed to dissect and understand complex SQL queries,\n",
    "        you could quickly and accurately extract essential information from intricate SQL statements.\n",
    "        Your key traits are Analytical prowess, Attention to detail, Vast knowledge of SQL syntax \n",
    "        across multiple database systems.\n",
    "        \"\"\"\n",
    "    ),\n",
    "    llm=model,\n",
    "    allow_delegation=False\n",
    ")"
   ]
  },
  {
   "cell_type": "code",
   "execution_count": 49,
   "metadata": {},
   "outputs": [],
   "source": [
    "extract_tables_columns = Task(\n",
    "    description=dedent(\n",
    "        \"\"\"\n",
    "        Analyse this SQL querie {sql_code}.\n",
    "        Is very important use table name, not its nick name. Then extract tables e columns names.\n",
    "        Get only table name and column name following this patterns:\n",
    "        table_name;columns_name\n",
    "        table1;columnName_n1\n",
    "        table1;columnName_n2\n",
    "        table2;columnName_n1\n",
    "        table2;columnName_n2\n",
    "        tableN;columnName_n1\n",
    "        tableN;columnName_n1\n",
    "        \"\"\"\n",
    "    ),\n",
    "    expected_output=\"CSV file\",\n",
    "    agent=sql_analyst,\n",
    "    #callback=lambda result: result_collector.add_result(result)\n",
    ")"
   ]
  },
  {
   "cell_type": "code",
   "execution_count": 50,
   "metadata": {},
   "outputs": [
    {
     "name": "stderr",
     "output_type": "stream",
     "text": [
      "2024-08-28 17:07:24,985 - 134946849038336 - __init__.py-__init__:531 - WARNING: Overriding of current TracerProvider is not allowed\n"
     ]
    }
   ],
   "source": [
    "crew = Crew(\n",
    "    agents = [sql_analyst],\n",
    "    tasks = [extract_tables_columns],\n",
    "    process = Process.sequential,\n",
    "    verbose = 0,\n",
    "    memory=False,\n",
    "    output_log_file=\"crew.log\",\n",
    ")"
   ]
  },
  {
   "cell_type": "code",
   "execution_count": 51,
   "metadata": {},
   "outputs": [],
   "source": [
    "##self.export_to_csv()\n",
    "\n",
    "def save_to_csv(data, filename):\n",
    "    # Split the string by newlines to get rows\n",
    "    rows = data.split('\\n')\n",
    "    \n",
    "    # Split each row by semicolons to get columns\n",
    "    formatted_data = [row.split(';') for row in rows]\n",
    "    \n",
    "    # Output filename\n",
    "    output_filename = f\"{'output'}/{filename}.csv\"\n",
    "\n",
    "    # Write the formatted data to a CSV file\n",
    "    with open(output_filename, 'w', newline='') as file:\n",
    "        writer = csv.writer(file)\n",
    "        writer.writerow(['Column', 'Table'])  # Write header\n",
    "        writer.writerows(formatted_data)"
   ]
  },
  {
   "cell_type": "code",
   "execution_count": 59,
   "metadata": {},
   "outputs": [],
   "source": [
    "def process_query(file_name: str, sql_code: list):\n",
    "    result = crew.kickoff(inputs=sql_code)\n",
    "    output = extract_tables_columns.output\n",
    "    save_to_csv(output.raw, file_name)"
   ]
  },
  {
   "cell_type": "code",
   "execution_count": 62,
   "metadata": {},
   "outputs": [
    {
     "name": "stdout",
     "output_type": "stream",
     "text": [
      "teste\n"
     ]
    }
   ],
   "source": [
    "for query in queries:\n",
    "    print(query['step_name'])\n",
    "    file_name = '01_beneficiario'\n",
    "    result = crew.kickoff(inputs=query)\n",
    "    output = extract_tables_columns.output\n",
    "    save_to_csv(output.raw, file_name)\n",
    "    #result_collector.add_result('export_tables_columns',output.raw,file_name)"
   ]
  },
  {
   "cell_type": "code",
   "execution_count": 60,
   "metadata": {},
   "outputs": [
    {
     "data": {
      "text/plain": [
       "list"
      ]
     },
     "execution_count": 60,
     "metadata": {},
     "output_type": "execute_result"
    }
   ],
   "source": [
    "type(queries)"
   ]
  },
  {
   "cell_type": "code",
   "execution_count": 61,
   "metadata": {},
   "outputs": [
    {
     "ename": "TypeError",
     "evalue": "str.format() argument after ** must be a mapping, not list",
     "output_type": "error",
     "traceback": [
      "\u001b[0;31m---------------------------------------------------------------------------\u001b[0m",
      "\u001b[0;31mTypeError\u001b[0m                                 Traceback (most recent call last)",
      "Cell \u001b[0;32mIn[61], line 1\u001b[0m\n\u001b[0;32m----> 1\u001b[0m \u001b[43mprocess_query\u001b[49m\u001b[43m(\u001b[49m\u001b[38;5;124;43m'\u001b[39;49m\u001b[38;5;124;43m01_beneficiario\u001b[39;49m\u001b[38;5;124;43m'\u001b[39;49m\u001b[43m,\u001b[49m\u001b[43m \u001b[49m\u001b[43mqueries\u001b[49m\u001b[43m)\u001b[49m\n",
      "Cell \u001b[0;32mIn[59], line 2\u001b[0m, in \u001b[0;36mprocess_query\u001b[0;34m(file_name, sql_code)\u001b[0m\n\u001b[1;32m      1\u001b[0m \u001b[38;5;28;01mdef\u001b[39;00m \u001b[38;5;21mprocess_query\u001b[39m(file_name: \u001b[38;5;28mstr\u001b[39m, sql_code: \u001b[38;5;28mlist\u001b[39m):\n\u001b[0;32m----> 2\u001b[0m     result \u001b[38;5;241m=\u001b[39m \u001b[43mcrew\u001b[49m\u001b[38;5;241;43m.\u001b[39;49m\u001b[43mkickoff\u001b[49m\u001b[43m(\u001b[49m\u001b[43minputs\u001b[49m\u001b[38;5;241;43m=\u001b[39;49m\u001b[43msql_code\u001b[49m\u001b[43m)\u001b[49m\n\u001b[1;32m      3\u001b[0m     output \u001b[38;5;241m=\u001b[39m extract_tables_columns\u001b[38;5;241m.\u001b[39moutput\n\u001b[1;32m      4\u001b[0m     save_to_csv(output\u001b[38;5;241m.\u001b[39mraw, file_name)\n",
      "File \u001b[0;32m~/repos/llm-agents-pentaho-mapping/.venv/lib/python3.10/site-packages/crewai/crew.py:442\u001b[0m, in \u001b[0;36mCrew.kickoff\u001b[0;34m(self, inputs)\u001b[0m\n\u001b[1;32m    440\u001b[0m \u001b[38;5;28;01mif\u001b[39;00m inputs \u001b[38;5;129;01mis\u001b[39;00m \u001b[38;5;129;01mnot\u001b[39;00m \u001b[38;5;28;01mNone\u001b[39;00m:\n\u001b[1;32m    441\u001b[0m     \u001b[38;5;28mself\u001b[39m\u001b[38;5;241m.\u001b[39m_inputs \u001b[38;5;241m=\u001b[39m inputs\n\u001b[0;32m--> 442\u001b[0m     \u001b[38;5;28;43mself\u001b[39;49m\u001b[38;5;241;43m.\u001b[39;49m\u001b[43m_interpolate_inputs\u001b[49m\u001b[43m(\u001b[49m\u001b[43minputs\u001b[49m\u001b[43m)\u001b[49m\n\u001b[1;32m    443\u001b[0m \u001b[38;5;28mself\u001b[39m\u001b[38;5;241m.\u001b[39m_set_tasks_callbacks()\n\u001b[1;32m    445\u001b[0m i18n \u001b[38;5;241m=\u001b[39m I18N(prompt_file\u001b[38;5;241m=\u001b[39m\u001b[38;5;28mself\u001b[39m\u001b[38;5;241m.\u001b[39mprompt_file)\n",
      "File \u001b[0;32m~/repos/llm-agents-pentaho-mapping/.venv/lib/python3.10/site-packages/crewai/crew.py:900\u001b[0m, in \u001b[0;36mCrew._interpolate_inputs\u001b[0;34m(self, inputs)\u001b[0m\n\u001b[1;32m    898\u001b[0m \u001b[38;5;28;01mdef\u001b[39;00m \u001b[38;5;21m_interpolate_inputs\u001b[39m(\u001b[38;5;28mself\u001b[39m, inputs: Dict[\u001b[38;5;28mstr\u001b[39m, Any]) \u001b[38;5;241m-\u001b[39m\u001b[38;5;241m>\u001b[39m \u001b[38;5;28;01mNone\u001b[39;00m:\n\u001b[1;32m    899\u001b[0m \u001b[38;5;250m    \u001b[39m\u001b[38;5;124;03m\"\"\"Interpolates the inputs in the tasks and agents.\"\"\"\u001b[39;00m\n\u001b[0;32m--> 900\u001b[0m     [\n\u001b[1;32m    901\u001b[0m         task\u001b[38;5;241m.\u001b[39minterpolate_inputs(\n\u001b[1;32m    902\u001b[0m             \u001b[38;5;66;03m# type: ignore # \"interpolate_inputs\" of \"Task\" does not return a value (it only ever returns None)\u001b[39;00m\n\u001b[1;32m    903\u001b[0m             inputs\n\u001b[1;32m    904\u001b[0m         )\n\u001b[1;32m    905\u001b[0m         \u001b[38;5;28;01mfor\u001b[39;00m task \u001b[38;5;129;01min\u001b[39;00m \u001b[38;5;28mself\u001b[39m\u001b[38;5;241m.\u001b[39mtasks\n\u001b[1;32m    906\u001b[0m     ]\n\u001b[1;32m    907\u001b[0m     \u001b[38;5;66;03m# type: ignore # \"interpolate_inputs\" of \"Agent\" does not return a value (it only ever returns None)\u001b[39;00m\n\u001b[1;32m    908\u001b[0m     \u001b[38;5;28;01mfor\u001b[39;00m agent \u001b[38;5;129;01min\u001b[39;00m \u001b[38;5;28mself\u001b[39m\u001b[38;5;241m.\u001b[39magents:\n",
      "File \u001b[0;32m~/repos/llm-agents-pentaho-mapping/.venv/lib/python3.10/site-packages/crewai/crew.py:901\u001b[0m, in \u001b[0;36m<listcomp>\u001b[0;34m(.0)\u001b[0m\n\u001b[1;32m    898\u001b[0m \u001b[38;5;28;01mdef\u001b[39;00m \u001b[38;5;21m_interpolate_inputs\u001b[39m(\u001b[38;5;28mself\u001b[39m, inputs: Dict[\u001b[38;5;28mstr\u001b[39m, Any]) \u001b[38;5;241m-\u001b[39m\u001b[38;5;241m>\u001b[39m \u001b[38;5;28;01mNone\u001b[39;00m:\n\u001b[1;32m    899\u001b[0m \u001b[38;5;250m    \u001b[39m\u001b[38;5;124;03m\"\"\"Interpolates the inputs in the tasks and agents.\"\"\"\u001b[39;00m\n\u001b[1;32m    900\u001b[0m     [\n\u001b[0;32m--> 901\u001b[0m         \u001b[43mtask\u001b[49m\u001b[38;5;241;43m.\u001b[39;49m\u001b[43minterpolate_inputs\u001b[49m\u001b[43m(\u001b[49m\n\u001b[1;32m    902\u001b[0m \u001b[43m            \u001b[49m\u001b[38;5;66;43;03m# type: ignore # \"interpolate_inputs\" of \"Task\" does not return a value (it only ever returns None)\u001b[39;49;00m\n\u001b[1;32m    903\u001b[0m \u001b[43m            \u001b[49m\u001b[43minputs\u001b[49m\n\u001b[1;32m    904\u001b[0m \u001b[43m        \u001b[49m\u001b[43m)\u001b[49m\n\u001b[1;32m    905\u001b[0m         \u001b[38;5;28;01mfor\u001b[39;00m task \u001b[38;5;129;01min\u001b[39;00m \u001b[38;5;28mself\u001b[39m\u001b[38;5;241m.\u001b[39mtasks\n\u001b[1;32m    906\u001b[0m     ]\n\u001b[1;32m    907\u001b[0m     \u001b[38;5;66;03m# type: ignore # \"interpolate_inputs\" of \"Agent\" does not return a value (it only ever returns None)\u001b[39;00m\n\u001b[1;32m    908\u001b[0m     \u001b[38;5;28;01mfor\u001b[39;00m agent \u001b[38;5;129;01min\u001b[39;00m \u001b[38;5;28mself\u001b[39m\u001b[38;5;241m.\u001b[39magents:\n",
      "File \u001b[0;32m~/repos/llm-agents-pentaho-mapping/.venv/lib/python3.10/site-packages/crewai/task.py:294\u001b[0m, in \u001b[0;36mTask.interpolate_inputs\u001b[0;34m(self, inputs)\u001b[0m\n\u001b[1;32m    291\u001b[0m     \u001b[38;5;28mself\u001b[39m\u001b[38;5;241m.\u001b[39m_original_expected_output \u001b[38;5;241m=\u001b[39m \u001b[38;5;28mself\u001b[39m\u001b[38;5;241m.\u001b[39mexpected_output\n\u001b[1;32m    293\u001b[0m \u001b[38;5;28;01mif\u001b[39;00m inputs:\n\u001b[0;32m--> 294\u001b[0m     \u001b[38;5;28mself\u001b[39m\u001b[38;5;241m.\u001b[39mdescription \u001b[38;5;241m=\u001b[39m \u001b[38;5;28mself\u001b[39m\u001b[38;5;241m.\u001b[39m_original_description\u001b[38;5;241m.\u001b[39mformat(\u001b[38;5;241m*\u001b[39m\u001b[38;5;241m*\u001b[39minputs)\n\u001b[1;32m    295\u001b[0m     \u001b[38;5;28mself\u001b[39m\u001b[38;5;241m.\u001b[39mexpected_output \u001b[38;5;241m=\u001b[39m \u001b[38;5;28mself\u001b[39m\u001b[38;5;241m.\u001b[39m_original_expected_output\u001b[38;5;241m.\u001b[39mformat(\u001b[38;5;241m*\u001b[39m\u001b[38;5;241m*\u001b[39minputs)\n",
      "\u001b[0;31mTypeError\u001b[0m: str.format() argument after ** must be a mapping, not list"
     ]
    }
   ],
   "source": [
    "process_query('01_beneficiario', queries)"
   ]
  },
  {
   "cell_type": "code",
   "execution_count": 78,
   "metadata": {},
   "outputs": [
    {
     "name": "stdout",
     "output_type": "stream",
     "text": [
      "BENEFICIÁRIO\n",
      "BUSCA MICROSIGA\n",
      "CONTRATO\n",
      "FAMILIA PESSOA RESPONSÁVEL\n",
      "FAMILIA TITULAR RESPONSÁVEL\n",
      "HANDLE_BENEFICIARIO\n",
      "LOTAÇÃO\n",
      "SAM_FAMILIA_TETO_PF\n",
      "SEM SETOR\n"
     ]
    }
   ],
   "source": [
    "# for query in list_of_queries:\n",
    "#     print(query['step_name'])\n",
    "#     file_name = convert_to_filename(query['step_name'])\n",
    "#     result = crew.kickoff(inputs=query)\n",
    "#     output = extract_tables_columns.output\n",
    "#     save_to_csv(output.raw, file_name)\n",
    "#     #result_collector.add_result('export_tables_columns',output.raw,file_name)"
   ]
  },
  {
   "cell_type": "markdown",
   "metadata": {},
   "source": [
    "# Processa CSVs"
   ]
  },
  {
   "cell_type": "code",
   "execution_count": 45,
   "metadata": {},
   "outputs": [
    {
     "data": {
      "text/plain": [
       "┌────────────────────┬────────────────────────────────┐\n",
       "│       Column       │             Table              │\n",
       "│      varchar       │            varchar             │\n",
       "├────────────────────┼────────────────────────────────┤\n",
       "│ AGENCIA            │ SFN_CONTAFIN_COMPLEMENTO       │\n",
       "│ AGENCIA            │ SFN_AGENCIA                    │\n",
       "│ ANOTACAO           │ SAM_FAMILIA_ANOTADM            │\n",
       "│ ATENDIMENTOATE     │ SAM_BENEFICIARIO               │\n",
       "│ BAIRRO             │ SAM_ENDERECO                   │\n",
       "│ BANCO              │ SFN_CONTAFIN_COMPLEMENTO       │\n",
       "│ BEMESTARESAUDE     │ K_SAM_BENEFICIARIO_APOIOSAUDE  │\n",
       "│ BEN                │ HANDLE                         │\n",
       "│ BENEFICIARIO       │ SAM_BENEFICIARIO_EVENTO        │\n",
       "│ BENEFICIARIO       │ SFN_CONTAFIN                   │\n",
       "│    ·               │      ·                         │\n",
       "│    ·               │      ·                         │\n",
       "│    ·               │      ·                         │\n",
       "│ TITULAR            │ SAM_BENEFICIARIO_TITULAR       │\n",
       "│ TITULARRESPONSAVEL │ SAM_FAMILIA                    │\n",
       "│ UNIMED             │ SAM_CAMARACOMPENSACAO_PREST    │\n",
       "│ UNIMEDDESTINO      │ SAM_REPASSEINTER               │\n",
       "│ UNIMEDEMCASA       │ K_SAM_BENEFICIARIO_APOIOSAUDE  │\n",
       "│ UNIMEDORIGEM       │ SAM_CONTRATO                   │\n",
       "│ USUARIOINCLUSAO    │ SAM_FAMILIA                    │\n",
       "│ VALORFATURADO      │ SAM_BENEFICIARIO_CARTAOIDENTIF │\n",
       "│ VIA                │ SAM_BENEFICIARIO_CARTAOIDENTIF │\n",
       "│ Z_NOME             │ SAM_BENEFICIARIO               │\n",
       "├────────────────────┴────────────────────────────────┤\n",
       "│ 301 rows (20 shown)                       2 columns │\n",
       "└─────────────────────────────────────────────────────┘"
      ]
     },
     "execution_count": 45,
     "metadata": {},
     "output_type": "execute_result"
    }
   ],
   "source": [
    "db.sql(\n",
    "\"\"\"     \n",
    "    with todas as (\n",
    "        select * from 'output/benefici_rio.csv' \n",
    "        union all\n",
    "        select * from 'output/contrato.csv' \n",
    "        union all\n",
    "        select * from 'output/familia_pessoa_respons_vel.csv'\n",
    "        union all\n",
    "        select * from 'output/familia_titular_respons_vel.csv'\n",
    "        union all\n",
    "        select * from 'output/lota__o.csv'\n",
    "    )\n",
    "    select distinct todas.* from todas\n",
    "    order by todas.Column\n",
    "\"\"\")"
   ]
  },
  {
   "cell_type": "code",
   "execution_count": null,
   "metadata": {},
   "outputs": [],
   "source": []
  }
 ],
 "metadata": {
  "kernelspec": {
   "display_name": ".venv",
   "language": "python",
   "name": "python3"
  },
  "language_info": {
   "codemirror_mode": {
    "name": "ipython",
    "version": 3
   },
   "file_extension": ".py",
   "mimetype": "text/x-python",
   "name": "python",
   "nbconvert_exporter": "python",
   "pygments_lexer": "ipython3",
   "version": "3.10.12"
  }
 },
 "nbformat": 4,
 "nbformat_minor": 2
}
