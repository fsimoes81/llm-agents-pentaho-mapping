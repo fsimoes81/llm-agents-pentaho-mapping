{
 "cells": [
  {
   "cell_type": "code",
   "execution_count": 78,
   "metadata": {},
   "outputs": [],
   "source": [
    "import duckdb as db\n",
    "import pandas as pd\n",
    "import numpy as np"
   ]
  },
  {
   "cell_type": "code",
   "execution_count": 2,
   "metadata": {},
   "outputs": [],
   "source": [
    "path = 'sql_files/bn_beneficiario/'"
   ]
  },
  {
   "cell_type": "markdown",
   "metadata": {},
   "source": [
    "# Análise dos dados"
   ]
  },
  {
   "cell_type": "markdown",
   "metadata": {},
   "source": [
    "## Beneficiário"
   ]
  },
  {
   "cell_type": "markdown",
   "metadata": {},
   "source": [
    "### Total Tabelas"
   ]
  },
  {
   "cell_type": "code",
   "execution_count": 33,
   "metadata": {},
   "outputs": [
    {
     "data": {
      "text/plain": [
       "┌────────────────────────────┐\n",
       "│ count(DISTINCT table_name) │\n",
       "│           int64            │\n",
       "├────────────────────────────┤\n",
       "│                         28 │\n",
       "└────────────────────────────┘"
      ]
     },
     "execution_count": 33,
     "metadata": {},
     "output_type": "execute_result"
    }
   ],
   "source": [
    "db.sql(\n",
    "\"\"\"     \n",
    "    select \n",
    "        count(distinct table_name)\n",
    "    from 'output/01_beneficiario.csv'\n",
    "    --order by table_name\n",
    "\"\"\")"
   ]
  },
  {
   "cell_type": "markdown",
   "metadata": {},
   "source": [
    "### Join com campos da tabela no DW"
   ]
  },
  {
   "cell_type": "code",
   "execution_count": 162,
   "metadata": {},
   "outputs": [],
   "source": [
    "df = db.sql(\n",
    "\"\"\"\n",
    "    with etl_origem as (\n",
    "        select table_name, alias as table_alias, column_name, column_alias from 'output/01_beneficiario.csv' \n",
    "    ),\n",
    "    etl_rules as (\n",
    "        select \n",
    "            alias as column_name,\n",
    "            rule as rule\n",
    "        from 'output/01_beneficiario_rules.csv'        \n",
    "    ),\n",
    "    dw_estatistica as (\n",
    "        select \n",
    "            COLUMN_NAME as column_name,\n",
    "            NUM_DISTINCT as num_distinct,\n",
    "            replace(trim(PERCENT_NULLS),',','.') as percent_nulls\n",
    "        from 'output/BN_BENEFICIARIO.csv'        \n",
    "    )\n",
    "    select distinct\n",
    "    orig.table_name,\n",
    "    orig.column_alias as column_name,\n",
    "    stat.column_name as dw_column_name,\n",
    "    coalesce(rule.rule,'') as rule,\n",
    "    stat.num_distinct,\n",
    "    stat.percent_nulls\n",
    "    from etl_origem as orig\n",
    "    left join etl_rules as rule \n",
    "    on (orig.column_alias = rule.column_name)\n",
    "    left join dw_estatistica stat\n",
    "    on (orig.column_alias = stat.column_name)\n",
    "    where stat.column_name not null\n",
    "    order by orig.table_name, stat.percent_nulls\n",
    "\"\"\"\n",
    ").to_df()"
   ]
  },
  {
   "cell_type": "code",
   "execution_count": 163,
   "metadata": {},
   "outputs": [],
   "source": [
    "df.to_csv('beneficiario.csv', index=False)"
   ]
  },
  {
   "cell_type": "code",
   "execution_count": 164,
   "metadata": {},
   "outputs": [],
   "source": [
    "df[[\"table_name\",\"column_name\",\"dw_column_name\",\"num_distinct\",\"percent_nulls\"]].to_markdown('beneficiario_table.md')"
   ]
  },
  {
   "cell_type": "markdown",
   "metadata": {},
   "source": [
    "## sam_familia_teto_pf"
   ]
  },
  {
   "cell_type": "markdown",
   "metadata": {},
   "source": [
    "### Total Tabelas"
   ]
  },
  {
   "cell_type": "code",
   "execution_count": 119,
   "metadata": {},
   "outputs": [
    {
     "data": {
      "text/plain": [
       "┌────────────────────────────┐\n",
       "│ count(DISTINCT table_name) │\n",
       "│           int64            │\n",
       "├────────────────────────────┤\n",
       "│                          1 │\n",
       "└────────────────────────────┘"
      ]
     },
     "execution_count": 119,
     "metadata": {},
     "output_type": "execute_result"
    }
   ],
   "source": [
    "db.sql(\n",
    "\"\"\"     \n",
    "    select \n",
    "        count(distinct table_name)\n",
    "    from 'output/02_sam_familia_teto_pf.csv'\n",
    "    --order by table_name\n",
    "\"\"\")"
   ]
  },
  {
   "cell_type": "markdown",
   "metadata": {},
   "source": [
    "### Join com campos da tabela no DW"
   ]
  },
  {
   "cell_type": "code",
   "execution_count": 147,
   "metadata": {},
   "outputs": [],
   "source": [
    "df = db.sql(\n",
    "\"\"\"\n",
    "    with etl_origem as (\n",
    "        select table_name, alias as table_alias, column_name, column_alias from 'output/02_sam_familia_teto_pf.csv' \n",
    "    ),\n",
    "    etl_rules as (\n",
    "        select \n",
    "            alias as column_name,\n",
    "            rule as rule\n",
    "        from 'output/02_sam_familia_teto_pf_rules.csv'\n",
    "    ),\n",
    "    dw_estatistica as (\n",
    "        select \n",
    "            COLUMN_NAME as column_name,\n",
    "            NUM_DISTINCT as num_distinct,\n",
    "            replace(trim(PERCENT_NULLS),',','.') as percent_nulls\n",
    "        from 'output/BN_BENEFICIARIO.csv'        \n",
    "    )\n",
    "    select distinct\n",
    "    orig.table_name,\n",
    "    orig.column_alias as column_name,\n",
    "    stat.column_name as dw_column_name,\n",
    "    coalesce(rule.rule,'') as rule,\n",
    "    stat.num_distinct,\n",
    "    stat.percent_nulls\n",
    "    from etl_origem as orig\n",
    "    left join etl_rules as rule \n",
    "    on (orig.column_alias = rule.column_name)\n",
    "    left join dw_estatistica stat\n",
    "    on (orig.column_alias = stat.column_name)\n",
    "    where stat.column_name not null\n",
    "    order by orig.table_name, stat.percent_nulls\n",
    "\"\"\"\n",
    ").to_df()"
   ]
  },
  {
   "cell_type": "code",
   "execution_count": 149,
   "metadata": {},
   "outputs": [],
   "source": [
    "df.to_csv('sam_familia_teto_pf_rules.csv', index=False)"
   ]
  },
  {
   "cell_type": "code",
   "execution_count": 150,
   "metadata": {},
   "outputs": [],
   "source": [
    "df[[\"table_name\",\"column_name\",\"dw_column_name\",\"num_distinct\",\"percent_nulls\"]].to_markdown('sam_familia_teto_pf_table.md')"
   ]
  },
  {
   "cell_type": "markdown",
   "metadata": {},
   "source": [
    "## Busca Microsiga"
   ]
  },
  {
   "cell_type": "markdown",
   "metadata": {},
   "source": [
    "### Total de Tabelas"
   ]
  },
  {
   "cell_type": "code",
   "execution_count": 154,
   "metadata": {},
   "outputs": [
    {
     "data": {
      "text/plain": [
       "┌────────────────┬─────────┬─────────────┬──────────────┐\n",
       "│   table_name   │  alias  │ column_name │ column_alias │\n",
       "│    varchar     │ varchar │   varchar   │   varchar    │\n",
       "├────────────────┼─────────┼─────────────┼──────────────┤\n",
       "│ SIGA.VW_SRA010 │ A       │ RA_TELEFON  │ TELEFONE     │\n",
       "│ SIGA.VW_SRA010 │ A       │ RA_EMAIL    │ EMAIL        │\n",
       "│ SIGA.VW_SRA010 │ A       │ RA_MAT      │ RA_MAT       │\n",
       "│ SIGA.VW_SRA010 │ A       │ RA_CC       │ RA_CC        │\n",
       "│ SIGA.CTT010    │ B       │ CTT_DESC01  │ SETOR_UNIMED │\n",
       "│ SIGA.CTT010    │ B       │ CTT_CUSTO   │ CTT_CUSTO    │\n",
       "└────────────────┴─────────┴─────────────┴──────────────┘"
      ]
     },
     "execution_count": 154,
     "metadata": {},
     "output_type": "execute_result"
    }
   ],
   "source": [
    "## Trata-se de apenas uma tabela, modelo não separou corretamenta\n",
    "db.sql(\n",
    "\"\"\"     \n",
    "    select \n",
    "        *\n",
    "    from 'output/03_1_busca_microsiga.csv'\n",
    "    --order by table_name\n",
    "\"\"\")"
   ]
  },
  {
   "cell_type": "code",
   "execution_count": 157,
   "metadata": {},
   "outputs": [],
   "source": [
    "df = db.sql(\n",
    "\"\"\"\n",
    "    with etl_origem as (\n",
    "        select table_name, alias as table_alias, column_name, column_alias from 'output/03_1_busca_microsiga.csv' \n",
    "    ),\n",
    "    etl_rules as (\n",
    "        select \n",
    "            alias as column_name,\n",
    "            rule as rule\n",
    "        from 'output/03_1_busca_microsiga_rules.csv'\n",
    "    ),\n",
    "    dw_estatistica as (\n",
    "        select \n",
    "            COLUMN_NAME as column_name,\n",
    "            NUM_DISTINCT as num_distinct,\n",
    "            replace(trim(PERCENT_NULLS),',','.') as percent_nulls\n",
    "        from 'output/BN_BENEFICIARIO.csv'        \n",
    "    )\n",
    "    select distinct\n",
    "    orig.table_name,\n",
    "    orig.column_alias as column_name,\n",
    "    stat.column_name as dw_column_name,\n",
    "    coalesce(rule.rule,'') as rule,\n",
    "    stat.num_distinct,\n",
    "    stat.percent_nulls\n",
    "    from etl_origem as orig\n",
    "    left join etl_rules as rule \n",
    "    on (orig.column_alias = rule.column_name)\n",
    "    left join dw_estatistica stat\n",
    "    on (orig.column_alias = stat.column_name)\n",
    "    where stat.column_name not null\n",
    "    order by orig.table_name, stat.percent_nulls\n",
    "\"\"\"\n",
    ").to_df()"
   ]
  },
  {
   "cell_type": "code",
   "execution_count": 158,
   "metadata": {},
   "outputs": [],
   "source": [
    "df.to_csv('busca_microsiga.csv', index=False)"
   ]
  },
  {
   "cell_type": "code",
   "execution_count": 159,
   "metadata": {},
   "outputs": [],
   "source": [
    "df[[\"table_name\",\"column_name\",\"dw_column_name\",\"num_distinct\",\"percent_nulls\"]].to_markdown('busca_microsiga.md')"
   ]
  },
  {
   "cell_type": "markdown",
   "metadata": {},
   "source": [
    "## Sem Setor"
   ]
  },
  {
   "cell_type": "code",
   "execution_count": 165,
   "metadata": {},
   "outputs": [
    {
     "data": {
      "text/plain": [
       "┌──────────────────┬─────────┬─────────────────────┬─────────────────────┐\n",
       "│    table_name    │  alias  │     column_name     │    column_alias     │\n",
       "│     varchar      │ varchar │       varchar       │       varchar       │\n",
       "├──────────────────┼─────────┼─────────────────────┼─────────────────────┤\n",
       "│ SAM_BENEFICIARIO │ BEN     │ HANDLE              │ HANDLE              │\n",
       "│ SAM_BENEFICIARIO │ BEN     │ ENDERECORESIDENCIAL │ ENDERECORESIDENCIAL │\n",
       "│ SAM_ENDERECO     │ ENDR    │ DDD1                │ DDD1                │\n",
       "│ SAM_ENDERECO     │ ENDR    │ PREFIXO1            │ PREFIXO1            │\n",
       "│ SAM_ENDERECO     │ ENDR    │ NUMERO1             │ NUMERO1             │\n",
       "│ SAM_ENDERECO     │ ENDR    │ HANDLE              │ HANDLE              │\n",
       "│ SAM_BENEFICIARIO │ NULL    │ SETOR_UNIMED        │ SETOR_UNIMED        │\n",
       "└──────────────────┴─────────┴─────────────────────┴─────────────────────┘"
      ]
     },
     "execution_count": 165,
     "metadata": {},
     "output_type": "execute_result"
    }
   ],
   "source": [
    "## Trata-se de apenas uma tabela, modelo não separou corretamenta\n",
    "db.sql(\n",
    "\"\"\"     \n",
    "    select \n",
    "        *\n",
    "    from 'output/03_2_sem_setor.csv'\n",
    "    --order by table_name\n",
    "\"\"\")"
   ]
  },
  {
   "cell_type": "code",
   "execution_count": 167,
   "metadata": {},
   "outputs": [],
   "source": [
    "df = db.sql(\n",
    "\"\"\"\n",
    "    with etl_origem as (\n",
    "        select table_name, alias as table_alias, column_name, column_alias from 'output/03_2_sem_setor.csv' \n",
    "    ),\n",
    "    etl_rules as (\n",
    "        select \n",
    "            alias as column_name,\n",
    "            rule as rule\n",
    "        from 'output/03_2_sem_setor_rules.csv'\n",
    "    ),\n",
    "    dw_estatistica as (\n",
    "        select \n",
    "            COLUMN_NAME as column_name,\n",
    "            NUM_DISTINCT as num_distinct,\n",
    "            replace(trim(PERCENT_NULLS),',','.') as percent_nulls\n",
    "        from 'output/BN_BENEFICIARIO.csv'        \n",
    "    )\n",
    "    select distinct\n",
    "    orig.table_name,\n",
    "    orig.column_alias as column_name,\n",
    "    stat.column_name as dw_column_name,\n",
    "    coalesce(rule.rule,'') as rule,\n",
    "    stat.num_distinct,\n",
    "    stat.percent_nulls\n",
    "    from etl_origem as orig\n",
    "    left join etl_rules as rule \n",
    "    on (orig.column_alias = rule.column_name)\n",
    "    left join dw_estatistica stat\n",
    "    on (orig.column_alias = stat.column_name)\n",
    "    where stat.column_name not null\n",
    "    order by orig.table_name, stat.percent_nulls\n",
    "\"\"\"\n",
    ").to_df()"
   ]
  },
  {
   "cell_type": "code",
   "execution_count": null,
   "metadata": {},
   "outputs": [],
   "source": [
    "df.to_csv('busca_microsiga.csv', index=False)"
   ]
  },
  {
   "cell_type": "code",
   "execution_count": 168,
   "metadata": {},
   "outputs": [],
   "source": [
    "df[[\"table_name\",\"column_name\",\"dw_column_name\",\"num_distinct\",\"percent_nulls\"]].to_markdown('busca_microsiga.md')"
   ]
  }
 ],
 "metadata": {
  "kernelspec": {
   "display_name": ".venv",
   "language": "python",
   "name": "python3"
  },
  "language_info": {
   "codemirror_mode": {
    "name": "ipython",
    "version": 3
   },
   "file_extension": ".py",
   "mimetype": "text/x-python",
   "name": "python",
   "nbconvert_exporter": "python",
   "pygments_lexer": "ipython3",
   "version": "3.10.12"
  }
 },
 "nbformat": 4,
 "nbformat_minor": 2
}
